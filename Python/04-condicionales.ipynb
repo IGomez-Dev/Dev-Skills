{
 "cells": [
  {
   "cell_type": "code",
   "execution_count": 6,
   "id": "607bc246",
   "metadata": {},
   "outputs": [
    {
     "name": "stdout",
     "output_type": "stream",
     "text": [
      "Eres menor de edad\n"
     ]
    }
   ],
   "source": [
    "edad = int(input('Cuantos años tienes: '))\n",
    "\n",
    "if edad >= 18:\n",
    "    print('Eres mayor de edad')\n",
    "else:\n",
    "    print('Eres menor de edad')"
   ]
  },
  {
   "cell_type": "code",
   "execution_count": 7,
   "id": "14d2f938",
   "metadata": {},
   "outputs": [
    {
     "name": "stdout",
     "output_type": "stream",
     "text": [
      "eres pobre\n"
     ]
    }
   ],
   "source": [
    "ingreso_mensual = 200\n",
    "gasto_mensual = 200\n",
    "\n",
    "#if anidados y else if (elif)\n",
    "\n",
    "if ingreso_mensual > 10000:\n",
    "    if ingreso_mensual - gasto_mensual < 0:\n",
    "        print('deuda')\n",
    "    elif ingreso_mensual - gasto_mensual > 3000:\n",
    "        print('estas muy bien')\n",
    "    else:\n",
    "        print('cuidado con tus cuentas')\n",
    "    \n",
    "    \n",
    "elif ingreso_mensual > 1000:\n",
    "    if ingreso_mensual - gasto_mensual < 0:\n",
    "        print('deficit')\n",
    "    elif ingreso_mensual - gasto_mensual >1000:\n",
    "        print('vas muy bien')\n",
    "    else:\n",
    "        print('ten cuidado con tus finanzasc')\n",
    "\n",
    "elif ingreso_mensual > 500:\n",
    "    print('estas bien en peru')\n",
    "\n",
    "elif ingreso_mensual > 200:\n",
    "    print('estas bien en venezuela')\n",
    "\n",
    "else:\n",
    "    print('eres pobre')"
   ]
  },
  {
   "cell_type": "code",
   "execution_count": 8,
   "id": "3245c407",
   "metadata": {},
   "outputs": [
    {
     "name": "stdout",
     "output_type": "stream",
     "text": [
      "INICIANDO SESION...\n"
     ]
    }
   ],
   "source": [
    "\n",
    "contraseña_almacenada = 'Max Llaccta'\n",
    "contraseña_escrita = 'Max Llaccta'\n",
    "\n",
    "if contraseña_almacenada == contraseña_escrita:\n",
    "    print(\"INICIANDO SESION...\")\n",
    "\n",
    "else:\n",
    "    print('CONTRASEÑA EQUIVOCADA, INTENTE DENUEVO')    "
   ]
  },
  {
   "cell_type": "code",
   "execution_count": 9,
   "id": "ea411049",
   "metadata": {},
   "outputs": [],
   "source": [
    "precio_taxi = 10.00\n",
    "precio_bus = 2.50\n",
    "dinero_disponible = 1.50"
   ]
  },
  {
   "cell_type": "code",
   "execution_count": 10,
   "id": "9af87929",
   "metadata": {},
   "outputs": [
    {
     "name": "stdout",
     "output_type": "stream",
     "text": [
      "Me voy andando\n"
     ]
    }
   ],
   "source": [
    "if precio_taxi < dinero_disponible:\n",
    "    print (\"Me voy en taxi\")\n",
    "if precio_bus < dinero_disponible and precio_taxi > dinero_disponible:\n",
    "    print (\"Me voy en bus\")\n",
    "if precio_bus > dinero_disponible:\n",
    "    print (\"Me voy andando\")"
   ]
  },
  {
   "cell_type": "code",
   "execution_count": 11,
   "id": "ff2b69ec",
   "metadata": {},
   "outputs": [
    {
     "name": "stdout",
     "output_type": "stream",
     "text": [
      "Me voy andando\n"
     ]
    }
   ],
   "source": [
    "if precio_taxi < dinero_disponible:\n",
    "    print (\"Me voy en taxi\")\n",
    "elif precio_bus < dinero_disponible:\n",
    "    print (\"Me voy en bus\")\n",
    "else:\n",
    "    print (\"Me voy andando\")"
   ]
  },
  {
   "cell_type": "code",
   "execution_count": 16,
   "id": "56e48a70",
   "metadata": {},
   "outputs": [
    {
     "name": "stdout",
     "output_type": "stream",
     "text": [
      "0\n",
      "1\n",
      "2\n",
      "3\n",
      "4\n",
      "5\n",
      "6\n",
      "7\n",
      "8\n",
      "9\n"
     ]
    }
   ],
   "source": [
    "i = 0\n",
    "while i < 10:\n",
    "    print(i)\n",
    "    i += 1"
   ]
  },
  {
   "cell_type": "code",
   "execution_count": 17,
   "id": "2329178d",
   "metadata": {},
   "outputs": [
    {
     "name": "stdout",
     "output_type": "stream",
     "text": [
      "uno\n",
      "dos\n",
      "tres\n"
     ]
    }
   ],
   "source": [
    "list_1 = ['uno', 'dos', 'tres', 'cuatro', 'cinco']\n",
    "for element in list_1:\n",
    "    if element == 'cuatro':\n",
    "        break\n",
    "    print (element)"
   ]
  },
  {
   "cell_type": "code",
   "execution_count": 18,
   "id": "e9cf3703",
   "metadata": {},
   "outputs": [
    {
     "name": "stdout",
     "output_type": "stream",
     "text": [
      "uno\n",
      "dos\n",
      "tres\n",
      "cinco\n"
     ]
    }
   ],
   "source": [
    "list_1 = ['uno', 'dos', 'tres', 'cuatro', 'cinco']\n",
    "for element in list_1:\n",
    "    if element == 'cuatro':\n",
    "        continue\n",
    "    print (element)"
   ]
  },
  {
   "cell_type": "code",
   "execution_count": 19,
   "id": "d630fab0",
   "metadata": {},
   "outputs": [
    {
     "name": "stdout",
     "output_type": "stream",
     "text": [
      "['MIGUEL', 'MARÍA', 'MANUEL']\n"
     ]
    }
   ],
   "source": [
    "list_1 = [\"Miguel\", \"Juan\", \"María\", \"Manuel\", \"Rodrigo\"]\n",
    "list_M = []\n",
    "for element in list_1:\n",
    "    if element[0] == \"M\":\n",
    "        list_M.append(element.upper())\n",
    "print (list_M)"
   ]
  }
 ],
 "metadata": {
  "kernelspec": {
   "display_name": "Python 3",
   "language": "python",
   "name": "python3"
  },
  "language_info": {
   "codemirror_mode": {
    "name": "ipython",
    "version": 3
   },
   "file_extension": ".py",
   "mimetype": "text/x-python",
   "name": "python",
   "nbconvert_exporter": "python",
   "pygments_lexer": "ipython3",
   "version": "3.13.7"
  }
 },
 "nbformat": 4,
 "nbformat_minor": 5
}

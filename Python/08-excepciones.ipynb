{
 "cells": [
  {
   "cell_type": "code",
   "execution_count": 2,
   "id": "30286a90",
   "metadata": {},
   "outputs": [
    {
     "name": "stdout",
     "output_type": "stream",
     "text": [
      "Se produjo un error\n"
     ]
    }
   ],
   "source": [
    "try:\n",
    "    cadena = '123.5hola'\n",
    "    numero = float(cadena)\n",
    "except:\n",
    "    print ('Se produjo un error')"
   ]
  },
  {
   "cell_type": "code",
   "execution_count": 3,
   "id": "4ae4dfe6",
   "metadata": {},
   "outputs": [
    {
     "name": "stdout",
     "output_type": "stream",
     "text": [
      "could not convert string to float: '123.5hola'\n",
      "Se produjo un error\n"
     ]
    }
   ],
   "source": [
    "try:\n",
    "    cadena = '123.5hola'\n",
    "    numero = float(cadena)\n",
    "except Exception as e:\n",
    "    print (e)\n",
    "    print ('Se produjo un error')"
   ]
  },
  {
   "cell_type": "code",
   "execution_count": 4,
   "id": "a61b3e79",
   "metadata": {},
   "outputs": [
    {
     "name": "stdout",
     "output_type": "stream",
     "text": [
      "Se produjo un error: could not convert string to float: '123.5hola'\n"
     ]
    }
   ],
   "source": [
    "try:\n",
    "    cadena = '123.5hola'\n",
    "    numero = float(cadena)\n",
    "except RuntimeError as e:\n",
    "    print (f'Se produjo un error: {e}')\n",
    "except ValueError as e:\n",
    "    print (f'Se produjo un error: {e}')\n",
    "except Exception as e:\n",
    "    print (f'Se produjo un error: {e}')"
   ]
  },
  {
   "cell_type": "code",
   "execution_count": 5,
   "id": "ac91c882",
   "metadata": {},
   "outputs": [
    {
     "name": "stdout",
     "output_type": "stream",
     "text": [
      "Se produjo un error\n"
     ]
    },
    {
     "data": {
      "text/plain": [
       "'123.5hola adios.'"
      ]
     },
     "execution_count": 5,
     "metadata": {},
     "output_type": "execute_result"
    }
   ],
   "source": [
    "try:\n",
    "    cadena = '123.5hola'\n",
    "    numero = float(cadena)\n",
    "except Exception as e:\n",
    "    print ('Se produjo un error')\n",
    "finally:\n",
    "    cadena += ' adios.'\n",
    "cadena"
   ]
  },
  {
   "cell_type": "code",
   "execution_count": 6,
   "id": "344e8af6",
   "metadata": {},
   "outputs": [
    {
     "name": "stdout",
     "output_type": "stream",
     "text": [
      "Esto se ejecuta siempre\n",
      "24\n"
     ]
    }
   ],
   "source": [
    "def sumar_dos():\n",
    "    while True:\n",
    "        a = input('Ingresar el número 1: ')\n",
    "        b = input('Ingresar el número 2: ')\n",
    "        try:\n",
    "            resultado = int(a) + int(b)\n",
    "        except Exception as e:\n",
    "            print(\"Por favor, cambia los tipos de variables\")\n",
    "            print(f\"El error es: {e}\")\n",
    "        else:\n",
    "            break\n",
    "        finally:\n",
    "            print('Esto se ejecuta siempre')\n",
    "    \n",
    "    return resultado\n",
    "\n",
    "print(sumar_dos())"
   ]
  },
  {
   "cell_type": "code",
   "execution_count": 7,
   "id": "f0f5ddb9",
   "metadata": {},
   "outputs": [
    {
     "name": "stdout",
     "output_type": "stream",
     "text": [
      "Yo siempre aparezco\n",
      "Aquí termina mi programa.\n",
      "--------------------------------------------------\n"
     ]
    }
   ],
   "source": [
    "\n",
    "# Excepcion: Error en tiempo de ejecución (durante la ejecución de un programa).\n",
    "\n",
    "numero1 = 20\n",
    "numero2 = 2\n",
    "\n",
    "# print(f'La división de {numero1} entre {numero2} es: {numero1/numero2}')\n",
    "\n",
    "try:\n",
    "    resultado = numero1 / numero2\n",
    "except ZeroDivisionError as e:\n",
    "    print(f'Error en el programa: {e}')\n",
    "finally:\n",
    "    print('Yo siempre aparezco')\n",
    "    \n",
    "print('Aquí termina mi programa.')\n",
    "print('-' * 50)"
   ]
  },
  {
   "cell_type": "code",
   "execution_count": 8,
   "id": "b054cdb1",
   "metadata": {},
   "outputs": [
    {
     "name": "stdout",
     "output_type": "stream",
     "text": [
      "Impresionante, cometiste el siguiente error: Jajjajajjajaja, persona poco culta\n",
      "Como vas a comoter ese error\n"
     ]
    }
   ],
   "source": [
    "class MiExcepcion(Exception):\n",
    "    def __init__(self,err):\n",
    "        print(F'Impresionante, cometiste el siguiente error: {err}')\n",
    "        \n",
    "try:\n",
    "    raise MiExcepcion('Jajjajajjajaja, persona poco culta')\n",
    "except:\n",
    "    print(\"Como vas a comoter ese error\")"
   ]
  }
 ],
 "metadata": {
  "kernelspec": {
   "display_name": "Python 3",
   "language": "python",
   "name": "python3"
  },
  "language_info": {
   "codemirror_mode": {
    "name": "ipython",
    "version": 3
   },
   "file_extension": ".py",
   "mimetype": "text/x-python",
   "name": "python",
   "nbconvert_exporter": "python",
   "pygments_lexer": "ipython3",
   "version": "3.13.7"
  }
 },
 "nbformat": 4,
 "nbformat_minor": 5
}

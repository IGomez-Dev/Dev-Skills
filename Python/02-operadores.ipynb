{
 "cells": [
  {
   "cell_type": "markdown",
   "id": "d71187a1",
   "metadata": {},
   "source": [
    "## Operadores aritméticos"
   ]
  },
  {
   "cell_type": "code",
   "execution_count": 10,
   "id": "f9ae82c9",
   "metadata": {},
   "outputs": [
    {
     "name": "stdout",
     "output_type": "stream",
     "text": [
      "17\n",
      "7\n"
     ]
    }
   ],
   "source": [
    "#suma y resta (+ y -)\n",
    "suma = 12 + 5\n",
    "resta = 12 - 5\n",
    "print(suma)\n",
    "print(resta)"
   ]
  },
  {
   "cell_type": "code",
   "execution_count": 11,
   "id": "120ab032",
   "metadata": {},
   "outputs": [
    {
     "name": "stdout",
     "output_type": "stream",
     "text": [
      "60\n",
      "2.0\n"
     ]
    }
   ],
   "source": [
    "#multi y division (* y /)\n",
    "multi = 12 * 5 \n",
    "division = 12 / 6  #devuelve un dato float (flotante) \n",
    "print(multi)\n",
    "print(division)"
   ]
  },
  {
   "cell_type": "code",
   "execution_count": 12,
   "id": "b8baa2bb",
   "metadata": {},
   "outputs": [
    {
     "name": "stdout",
     "output_type": "stream",
     "text": [
      "248832\n"
     ]
    }
   ],
   "source": [
    "#potenciación (exponente) (**)\n",
    "exponente = 12 ** 5\n",
    "print(exponente)"
   ]
  },
  {
   "cell_type": "code",
   "execution_count": 14,
   "id": "12473cf1",
   "metadata": {},
   "outputs": [
    {
     "name": "stdout",
     "output_type": "stream",
     "text": [
      "2\n"
     ]
    }
   ],
   "source": [
    "#division baja (//)\n",
    "division_baja = 12 // 5 #Devuelve un entero hacia abajo\n",
    "print(division_baja)"
   ]
  },
  {
   "cell_type": "code",
   "execution_count": 15,
   "id": "67ecfda9",
   "metadata": {},
   "outputs": [
    {
     "name": "stdout",
     "output_type": "stream",
     "text": [
      "3\n"
     ]
    }
   ],
   "source": [
    "#resto o modulo\n",
    "resto = 12 % 9\n",
    "print(resto)"
   ]
  },
  {
   "cell_type": "code",
   "execution_count": 16,
   "id": "f69544ac",
   "metadata": {},
   "outputs": [
    {
     "name": "stdout",
     "output_type": "stream",
     "text": [
      "<class 'int'>\n"
     ]
    }
   ],
   "source": [
    "#type(dato) nos devuelve que tipo de dato es\n",
    "tipo_de_dato = type(division_baja)\n",
    "\n",
    "print(tipo_de_dato)"
   ]
  },
  {
   "cell_type": "markdown",
   "id": "a88bb039",
   "metadata": {},
   "source": [
    "## Operadores de comparación"
   ]
  },
  {
   "cell_type": "code",
   "execution_count": 17,
   "id": "82811765",
   "metadata": {},
   "outputs": [
    {
     "name": "stdout",
     "output_type": "stream",
     "text": [
      "False\n"
     ]
    }
   ],
   "source": [
    "igual_que = 5 == 6\n",
    "print(igual_que)"
   ]
  },
  {
   "cell_type": "code",
   "execution_count": 18,
   "id": "cf0b1750",
   "metadata": {},
   "outputs": [
    {
     "name": "stdout",
     "output_type": "stream",
     "text": [
      "True\n"
     ]
    }
   ],
   "source": [
    "distinto_de = 5 != 6\n",
    "print(distinto_de)"
   ]
  },
  {
   "cell_type": "code",
   "execution_count": 19,
   "id": "2f227e3a",
   "metadata": {},
   "outputs": [
    {
     "name": "stdout",
     "output_type": "stream",
     "text": [
      "False\n"
     ]
    }
   ],
   "source": [
    "mayor_que = 5 > 6\n",
    "print(mayor_que)"
   ]
  },
  {
   "cell_type": "code",
   "execution_count": 20,
   "id": "e0a91b05",
   "metadata": {},
   "outputs": [
    {
     "name": "stdout",
     "output_type": "stream",
     "text": [
      "True\n"
     ]
    }
   ],
   "source": [
    "menor_que = 5 < 6\n",
    "print(menor_que)"
   ]
  },
  {
   "cell_type": "code",
   "execution_count": 21,
   "id": "3ad34c54",
   "metadata": {},
   "outputs": [
    {
     "name": "stdout",
     "output_type": "stream",
     "text": [
      "False\n"
     ]
    }
   ],
   "source": [
    "mayor_o_igual = 5 >= 6\n",
    "print(mayor_o_igual)"
   ]
  },
  {
   "cell_type": "code",
   "execution_count": 22,
   "id": "9096fae5",
   "metadata": {},
   "outputs": [
    {
     "name": "stdout",
     "output_type": "stream",
     "text": [
      "True\n"
     ]
    }
   ],
   "source": [
    "menor_o_igual = 5 <= 6\n",
    "print(menor_o_igual)"
   ]
  },
  {
   "cell_type": "code",
   "execution_count": 23,
   "id": "b2ee79fa",
   "metadata": {},
   "outputs": [
    {
     "name": "stdout",
     "output_type": "stream",
     "text": [
      "True\n"
     ]
    }
   ],
   "source": [
    "a=4\n",
    "b=7\n",
    "c=28\n",
    "comparacion = a * b == c\n",
    "print(comparacion)"
   ]
  },
  {
   "cell_type": "code",
   "execution_count": 24,
   "id": "30319090",
   "metadata": {},
   "outputs": [
    {
     "name": "stdout",
     "output_type": "stream",
     "text": [
      "False\n"
     ]
    }
   ],
   "source": [
    "contraseña_almacenada = 'Max LLaccta'\n",
    "contraseña_escrita = 'Max Llacta'\n",
    "\n",
    "print(contraseña_almacenada == contraseña_escrita)"
   ]
  },
  {
   "cell_type": "markdown",
   "id": "b0b451b7",
   "metadata": {},
   "source": [
    "## Operadores Lógicos"
   ]
  },
  {
   "cell_type": "code",
   "execution_count": 25,
   "id": "1074b199",
   "metadata": {},
   "outputs": [
    {
     "name": "stdout",
     "output_type": "stream",
     "text": [
      "True\n",
      "False\n",
      "False\n",
      "False\n"
     ]
    }
   ],
   "source": [
    "#AND\n",
    "\n",
    "Resultado = True & True #Devolver True\n",
    "Resultado2 = False & True #Devolver Falso\n",
    "Resultado3 = True & False #Devolver Falso\n",
    "Resultado4 = False & False #Devolver Falso\n",
    "\n",
    "print(Resultado)\n",
    "print(Resultado2)\n",
    "print(Resultado3)\n",
    "print(Resultado4)"
   ]
  },
  {
   "cell_type": "code",
   "execution_count": 26,
   "id": "fbda8fed",
   "metadata": {},
   "outputs": [
    {
     "name": "stdout",
     "output_type": "stream",
     "text": [
      "True\n",
      "True\n",
      "True\n",
      "False\n"
     ]
    }
   ],
   "source": [
    "#OR\n",
    "\n",
    "Resultado5 = True | True #Devolver True\n",
    "Resultado6 = False | True #Devolver True\n",
    "Resultado7 = True | False #Devolver True\n",
    "Resultado8 = False | False #Devolver Falso\n",
    "\n",
    "print(Resultado5)\n",
    "print(Resultado6)\n",
    "print(Resultado7)\n",
    "print(Resultado8)"
   ]
  },
  {
   "cell_type": "code",
   "execution_count": 27,
   "id": "d2a31d86",
   "metadata": {},
   "outputs": [
    {
     "name": "stdout",
     "output_type": "stream",
     "text": [
      "False\n",
      "True\n"
     ]
    }
   ],
   "source": [
    "#NOT\n",
    "\n",
    "Resultado9 = not True #Devolver False\n",
    "Resultado10 = not False #Devolver True\n",
    "\n",
    "print (Resultado9)\n",
    "print(Resultado10)"
   ]
  },
  {
   "cell_type": "markdown",
   "id": "e8831517",
   "metadata": {},
   "source": [
    "## Conjuntos"
   ]
  },
  {
   "cell_type": "code",
   "execution_count": 1,
   "id": "c00488b2",
   "metadata": {},
   "outputs": [
    {
     "name": "stdout",
     "output_type": "stream",
     "text": [
      "{'manzana', 'platano', 'naranja', 'pera'}\n",
      "{1, 3, 4, 5, 8, 12}\n"
     ]
    }
   ],
   "source": [
    "# Sets: Son colleciones desordenados de objetos únicos.\n",
    "\n",
    "'''\n",
    "print(dir(set))\n",
    "'''\n",
    "\n",
    "canasta = {'manzana', 'platano', 'pera', 'manzana', 'naranja', 'pera'}\n",
    "print(canasta)\n",
    "\n",
    "numeros = {1, 3, 5, 8, 3, 4, 12, 1}\n",
    "print(numeros)"
   ]
  },
  {
   "cell_type": "code",
   "execution_count": 2,
   "id": "daa3049a",
   "metadata": {},
   "outputs": [
    {
     "name": "stdout",
     "output_type": "stream",
     "text": [
      "{'r', 'b', 'd', 'c', 'a'}\n",
      "{'r', 'b', 'g', 'd', 'c', 'a'}\n"
     ]
    }
   ],
   "source": [
    "# Tipo 1 de Sets: Mutables, se puede añadir nuevos elementos\n",
    "a = set('abracadabra')\n",
    "print(a)\n",
    "a.add('g')\n",
    "print(a)"
   ]
  },
  {
   "cell_type": "code",
   "execution_count": 3,
   "id": "2083703d",
   "metadata": {},
   "outputs": [
    {
     "name": "stdout",
     "output_type": "stream",
     "text": [
      "{3, 4, 5}\n",
      "{3, 4, 5}\n"
     ]
    }
   ],
   "source": [
    "'''\n",
    "# Tipo 2 de Sets; Inmutables, no se puede añadir nuevos elementos\n",
    "b = frozenset('perro')\n",
    "print(b)\n",
    "b.add('k')\n",
    "print(b)\n",
    "'''\n",
    "\n",
    "# Intersección \n",
    "miSet = {1, 2, 3, 4, 5}.intersection({3, 4, 5, 6})\n",
    "print(miSet)\n",
    "miSet = {1, 2, 3, 4, 5} & ({3, 4, 5, 6})\n",
    "print(miSet)"
   ]
  },
  {
   "cell_type": "code",
   "execution_count": 4,
   "id": "2a2b05bb",
   "metadata": {},
   "outputs": [
    {
     "name": "stdout",
     "output_type": "stream",
     "text": [
      "{1, 2, 3, 4, 5, 6}\n",
      "{1, 2, 3, 4, 5, 6}\n"
     ]
    }
   ],
   "source": [
    "# Union\n",
    "miSet = {1, 2, 3, 4, 5}.union({3, 4, 5, 6})\n",
    "print(miSet)\n",
    "miSet = {1, 2, 3, 4, 5} | ({3, 4, 5, 6})\n",
    "print(miSet)"
   ]
  },
  {
   "cell_type": "code",
   "execution_count": 5,
   "id": "68341e0f",
   "metadata": {},
   "outputs": [
    {
     "name": "stdout",
     "output_type": "stream",
     "text": [
      "{1, 2}\n",
      "{1, 2}\n"
     ]
    }
   ],
   "source": [
    "# Diferencia\n",
    "miSet = {1, 2, 3, 4, 5}.difference({3, 4, 5, 6})\n",
    "print(miSet)\n",
    "miSet = {1, 2, 3, 4, 5} - ({3, 4, 5, 6})\n",
    "print(miSet)"
   ]
  },
  {
   "cell_type": "code",
   "execution_count": 6,
   "id": "8755984f",
   "metadata": {},
   "outputs": [
    {
     "name": "stdout",
     "output_type": "stream",
     "text": [
      "{1, 2, 6}\n"
     ]
    }
   ],
   "source": [
    "# Diferencia simétrica\n",
    "miSet = {1, 2, 3, 4, 5}.symmetric_difference({3, 4, 5, 6})\n",
    "print(miSet)"
   ]
  },
  {
   "cell_type": "code",
   "execution_count": 7,
   "id": "913386f8",
   "metadata": {},
   "outputs": [
    {
     "name": "stdout",
     "output_type": "stream",
     "text": [
      "True\n"
     ]
    }
   ],
   "source": [
    "# Super conjunto\n",
    "miSet = {1, 2, 3, 4, 5}.issuperset({3, 4, 5})\n",
    "print(miSet)"
   ]
  },
  {
   "cell_type": "code",
   "execution_count": 8,
   "id": "37118950",
   "metadata": {},
   "outputs": [
    {
     "name": "stdout",
     "output_type": "stream",
     "text": [
      "True\n"
     ]
    }
   ],
   "source": [
    "#Sub conjunto\n",
    "miSet = {4, 5}.issubset({3, 4, 5, 6})\n",
    "print(miSet)"
   ]
  },
  {
   "cell_type": "markdown",
   "id": "6f97eae1",
   "metadata": {},
   "source": [
    "## String"
   ]
  },
  {
   "cell_type": "code",
   "execution_count": 28,
   "id": "75af5228",
   "metadata": {},
   "outputs": [
    {
     "name": "stdout",
     "output_type": "stream",
     "text": [
      "9\n",
      "14\n",
      "Mi String Mi otro String\n"
     ]
    }
   ],
   "source": [
    "### Strings ###\n",
    "\n",
    "my_string = \"Mi String\"\n",
    "my_other_string = 'Mi otro String'\n",
    "\n",
    "print(len(my_string))\n",
    "print(len(my_other_string))\n",
    "print(my_string + \" \" + my_other_string)"
   ]
  },
  {
   "cell_type": "code",
   "execution_count": 29,
   "id": "f9f748d4",
   "metadata": {},
   "outputs": [
    {
     "name": "stdout",
     "output_type": "stream",
     "text": [
      "Este es un String\n",
      "con salto de línea\n"
     ]
    }
   ],
   "source": [
    "my_new_line_string = \"Este es un String\\ncon salto de línea\"\n",
    "print(my_new_line_string)"
   ]
  },
  {
   "cell_type": "code",
   "execution_count": 30,
   "id": "4983b136",
   "metadata": {},
   "outputs": [
    {
     "name": "stdout",
     "output_type": "stream",
     "text": [
      "\tEste es un String con tabulación\n"
     ]
    }
   ],
   "source": [
    "my_tab_string = \"\\tEste es un String con tabulación\"\n",
    "print(my_tab_string)"
   ]
  },
  {
   "cell_type": "code",
   "execution_count": 31,
   "id": "f0409089",
   "metadata": {},
   "outputs": [
    {
     "name": "stdout",
     "output_type": "stream",
     "text": [
      "\\tEste es un String \\n escapado\n"
     ]
    }
   ],
   "source": [
    "my_scape_string = \"\\\\tEste es un String \\\\n escapado\"\n",
    "print(my_scape_string)"
   ]
  },
  {
   "cell_type": "code",
   "execution_count": 33,
   "id": "a2d7e64b",
   "metadata": {},
   "outputs": [
    {
     "name": "stdout",
     "output_type": "stream",
     "text": [
      "Mi nombre es Brais Moure y mi edad es 35\n",
      "Mi nombre es Brais Moure y mi edad es 35\n",
      "Mi nombre es Brais Moure y mi edad es 35\n",
      "Mi nombre es Brais Moure y mi edad es 35\n"
     ]
    }
   ],
   "source": [
    "# Formateo\n",
    "\n",
    "name, surname, age = \"Brais\", \"Moure\", 35\n",
    "print(\"Mi nombre es {} {} y mi edad es {}\".format(name, surname, age))\n",
    "print(\"Mi nombre es %s %s y mi edad es %d\" % (name, surname, age))\n",
    "print(\"Mi nombre es \" + name + \" \" + surname + \" y mi edad es \" + str(age))\n",
    "print(f\"Mi nombre es {name} {surname} y mi edad es {age}\")"
   ]
  },
  {
   "cell_type": "code",
   "execution_count": 34,
   "id": "d7da7ace",
   "metadata": {},
   "outputs": [
    {
     "name": "stdout",
     "output_type": "stream",
     "text": [
      "p\n",
      "o\n"
     ]
    }
   ],
   "source": [
    "# Desempaqueado de caracteres\n",
    "\n",
    "language = \"python\"\n",
    "a, b, c, d, e, f = language\n",
    "print(a)\n",
    "print(e)"
   ]
  },
  {
   "cell_type": "code",
   "execution_count": 35,
   "id": "78a1be9c",
   "metadata": {},
   "outputs": [
    {
     "name": "stdout",
     "output_type": "stream",
     "text": [
      "yt\n"
     ]
    }
   ],
   "source": [
    "# División\n",
    "\n",
    "language_slice = language[1:3]\n",
    "print(language_slice)"
   ]
  },
  {
   "cell_type": "code",
   "execution_count": 36,
   "id": "59b1a6dd",
   "metadata": {},
   "outputs": [
    {
     "name": "stdout",
     "output_type": "stream",
     "text": [
      "ython\n"
     ]
    }
   ],
   "source": [
    "language_slice = language[1:]\n",
    "print(language_slice)"
   ]
  },
  {
   "cell_type": "code",
   "execution_count": 37,
   "id": "6487acfa",
   "metadata": {},
   "outputs": [
    {
     "name": "stdout",
     "output_type": "stream",
     "text": [
      "o\n"
     ]
    }
   ],
   "source": [
    "language_slice = language[-2]\n",
    "print(language_slice)"
   ]
  },
  {
   "cell_type": "code",
   "execution_count": 38,
   "id": "5feddc38",
   "metadata": {},
   "outputs": [
    {
     "name": "stdout",
     "output_type": "stream",
     "text": [
      "pto\n"
     ]
    }
   ],
   "source": [
    "language_slice = language[0:6:2]\n",
    "print(language_slice)"
   ]
  },
  {
   "cell_type": "code",
   "execution_count": 39,
   "id": "62ecac22",
   "metadata": {},
   "outputs": [
    {
     "name": "stdout",
     "output_type": "stream",
     "text": [
      "nohtyp\n"
     ]
    }
   ],
   "source": [
    "# Reverse\n",
    "\n",
    "reversed_language = language[::-1]\n",
    "print(reversed_language)"
   ]
  },
  {
   "cell_type": "code",
   "execution_count": 40,
   "id": "7d83a6ba",
   "metadata": {},
   "outputs": [
    {
     "name": "stdout",
     "output_type": "stream",
     "text": [
      "Python\n",
      "PYTHON\n",
      "1\n",
      "False\n",
      "True\n",
      "python\n",
      "False\n",
      "False\n",
      "False\n"
     ]
    }
   ],
   "source": [
    "# Funciones del lenguaje\n",
    "\n",
    "print(language.capitalize())\n",
    "print(language.upper())\n",
    "print(language.count(\"t\"))\n",
    "print(language.isnumeric())\n",
    "print(\"1\".isnumeric())\n",
    "print(language.lower())\n",
    "print(language.lower().isupper())\n",
    "print(language.startswith(\"Py\"))\n",
    "print(\"Py\" == \"py\")  # No es lo mismo"
   ]
  }
 ],
 "metadata": {
  "kernelspec": {
   "display_name": "Python 3",
   "language": "python",
   "name": "python3"
  },
  "language_info": {
   "codemirror_mode": {
    "name": "ipython",
    "version": 3
   },
   "file_extension": ".py",
   "mimetype": "text/x-python",
   "name": "python",
   "nbconvert_exporter": "python",
   "pygments_lexer": "ipython3",
   "version": "3.13.7"
  }
 },
 "nbformat": 4,
 "nbformat_minor": 5
}

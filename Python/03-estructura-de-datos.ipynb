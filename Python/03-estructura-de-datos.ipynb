{
 "cells": [
  {
   "cell_type": "markdown",
   "id": "49f9f359",
   "metadata": {},
   "source": [
    "## Lista"
   ]
  },
  {
   "cell_type": "code",
   "execution_count": 1,
   "id": "9e923c71",
   "metadata": {},
   "outputs": [
    {
     "name": "stdout",
     "output_type": "stream",
     "text": [
      "7\n",
      "298\n"
     ]
    }
   ],
   "source": [
    "'''\n",
    "print( dir(list) )\n",
    "'''\n",
    "\n",
    "edades = [25, 63, 14, 38, 54, 98, 6]\n",
    "print(len(edades))\n",
    "print(sum(edades))"
   ]
  },
  {
   "cell_type": "code",
   "execution_count": 2,
   "id": "41305756",
   "metadata": {},
   "outputs": [
    {
     "name": "stdout",
     "output_type": "stream",
     "text": [
      "[25, 43, 14, 38, 54, 98, 6]\n"
     ]
    }
   ],
   "source": [
    "# Copiar lista\n",
    "edades_1 = edades.copy()\n",
    "edades[1] = 43\n",
    "print(edades)"
   ]
  },
  {
   "cell_type": "code",
   "execution_count": 3,
   "id": "7614ade3",
   "metadata": {},
   "outputs": [
    {
     "name": "stdout",
     "output_type": "stream",
     "text": [
      "[25, 38, 54, 98]\n"
     ]
    }
   ],
   "source": [
    "# Formas de eliminar elementos\n",
    "edades.pop()\n",
    "del edades[1]\n",
    "edades.remove(14)\n",
    "print(edades)"
   ]
  },
  {
   "cell_type": "code",
   "execution_count": 4,
   "id": "7cee6695",
   "metadata": {},
   "outputs": [
    {
     "name": "stdout",
     "output_type": "stream",
     "text": [
      "[]\n"
     ]
    }
   ],
   "source": [
    "edades.clear()\n",
    "print(edades)"
   ]
  },
  {
   "cell_type": "code",
   "execution_count": 5,
   "id": "514b98ea",
   "metadata": {},
   "outputs": [
    {
     "name": "stdout",
     "output_type": "stream",
     "text": [
      "[25, 63, 54, 14, 38, 54, 98, 6, 83, 15, 24, 69]\n"
     ]
    }
   ],
   "source": [
    "# Formas de añadir elementos\n",
    "edades_1.append(83)\n",
    "edades_1.insert(2, 54)\n",
    "edades_1.extend([15, 24, 69])\n",
    "print(edades_1)"
   ]
  },
  {
   "cell_type": "code",
   "execution_count": 6,
   "id": "940338c3",
   "metadata": {},
   "outputs": [
    {
     "name": "stdout",
     "output_type": "stream",
     "text": [
      "[6, 14, 15, 24, 25, 38, 54, 54, 63, 69, 83, 98]\n"
     ]
    }
   ],
   "source": [
    "# Ordenar la lista\n",
    "edades_1.sort()\n",
    "print(edades_1)"
   ]
  },
  {
   "cell_type": "code",
   "execution_count": 7,
   "id": "007ba9f4",
   "metadata": {},
   "outputs": [
    {
     "name": "stdout",
     "output_type": "stream",
     "text": [
      "[98, 83, 69, 63, 54, 54, 38, 25, 24, 15, 14, 6]\n"
     ]
    }
   ],
   "source": [
    "edades_1.sort(reverse = True)\n",
    "print(edades_1)"
   ]
  },
  {
   "cell_type": "code",
   "execution_count": 8,
   "id": "e10c186e",
   "metadata": {},
   "outputs": [
    {
     "name": "stdout",
     "output_type": "stream",
     "text": [
      "[6, 14, 15, 24, 25, 38, 54, 54, 63, 69, 83, 98]\n"
     ]
    }
   ],
   "source": [
    "edades_1.reverse()\n",
    "print(edades_1)"
   ]
  },
  {
   "cell_type": "code",
   "execution_count": 9,
   "id": "449d981a",
   "metadata": {},
   "outputs": [
    {
     "name": "stdout",
     "output_type": "stream",
     "text": [
      "2\n"
     ]
    }
   ],
   "source": [
    "# Contar elementos repetidos de la lista\n",
    "print(edades_1.count(54))"
   ]
  },
  {
   "cell_type": "markdown",
   "id": "f0361530",
   "metadata": {},
   "source": [
    "## Métodos de una Cadenas"
   ]
  },
  {
   "cell_type": "code",
   "execution_count": 10,
   "id": "0dd38485",
   "metadata": {},
   "outputs": [],
   "source": [
    "cadena1 = 'Hola soy Steve'\n",
    "cadena2 = 'Bienvenido_Capo_Mastodonte'\n",
    "cadena3 = 'HOLA,MUNDO'\n",
    "cadena4 = '900938586'"
   ]
  },
  {
   "cell_type": "code",
   "execution_count": 12,
   "id": "740bcbfa",
   "metadata": {},
   "outputs": [
    {
     "name": "stdout",
     "output_type": "stream",
     "text": [
      "HOLA SOY STEVE\n"
     ]
    }
   ],
   "source": [
    "# DIR - devuelve la lista de atributos válidos del objeto pasado.\n",
    "# print(dir(cadena1))\n",
    "\n",
    "# Formula de un método : Dato . método ()\n",
    "\n",
    "# Convierte a mayusculas\n",
    "mayus = cadena1.upper()\n",
    "print(mayus)"
   ]
  },
  {
   "cell_type": "code",
   "execution_count": 13,
   "id": "f30fd4d7",
   "metadata": {},
   "outputs": [
    {
     "name": "stdout",
     "output_type": "stream",
     "text": [
      "bienvenido_capo_mastodonte\n"
     ]
    }
   ],
   "source": [
    "# Convierte a minusculas\n",
    "minus = cadena2.lower()\n",
    "print(minus)"
   ]
  },
  {
   "cell_type": "code",
   "execution_count": 14,
   "id": "d6a60884",
   "metadata": {},
   "outputs": [
    {
     "name": "stdout",
     "output_type": "stream",
     "text": [
      "Hola,mundo\n"
     ]
    }
   ],
   "source": [
    "# Primera letra en mayuscula\n",
    "primera_letra_mayus = cadena3.capitalize()\n",
    "print(primera_letra_mayus)"
   ]
  },
  {
   "cell_type": "code",
   "execution_count": 15,
   "id": "112f4a6f",
   "metadata": {},
   "outputs": [
    {
     "name": "stdout",
     "output_type": "stream",
     "text": [
      "11\n"
     ]
    }
   ],
   "source": [
    "# Buscamos una cadena en otra cadena, sino hay coincidencias nos devuelve -1\n",
    "busqueda_find = cadena2.find('Capo')\n",
    "print(busqueda_find)"
   ]
  },
  {
   "cell_type": "code",
   "execution_count": 16,
   "id": "ab7340f2",
   "metadata": {},
   "outputs": [
    {
     "name": "stdout",
     "output_type": "stream",
     "text": [
      "11\n"
     ]
    }
   ],
   "source": [
    "# Buscamos una cadena en otra cadena, sino hay coincidencias lanza una excepcion\n",
    "busqueda_index = cadena2.index('C')\n",
    "print(busqueda_index)"
   ]
  },
  {
   "cell_type": "code",
   "execution_count": 17,
   "id": "96ac4c7c",
   "metadata": {},
   "outputs": [
    {
     "name": "stdout",
     "output_type": "stream",
     "text": [
      "True\n"
     ]
    }
   ],
   "source": [
    "# Si es numerico devuelve True, sino devuelve False\n",
    "es_numerico = cadena4.isnumeric()\n",
    "print(es_numerico)"
   ]
  },
  {
   "cell_type": "code",
   "execution_count": 18,
   "id": "2d550704",
   "metadata": {},
   "outputs": [
    {
     "name": "stdout",
     "output_type": "stream",
     "text": [
      "False\n"
     ]
    }
   ],
   "source": [
    "# Si es alfanumerico devuelve True, sino devuelve False\n",
    "es_alfanumerico = cadena3.isalpha()\n",
    "print(es_alfanumerico)"
   ]
  },
  {
   "cell_type": "code",
   "execution_count": 19,
   "id": "8c262717",
   "metadata": {},
   "outputs": [
    {
     "name": "stdout",
     "output_type": "stream",
     "text": [
      "1\n"
     ]
    }
   ],
   "source": [
    "# Contamos coincidencias de una cadena dentro de otra cadena, devuelve la cantida de coincidencias\n",
    "contar_coincidencias = cadena2.count('asto')\n",
    "print(contar_coincidencias)"
   ]
  },
  {
   "cell_type": "code",
   "execution_count": 20,
   "id": "c50e9e8a",
   "metadata": {},
   "outputs": [
    {
     "name": "stdout",
     "output_type": "stream",
     "text": [
      "9\n"
     ]
    }
   ],
   "source": [
    "# Cuantos caracteres tienes una cadena\n",
    "contar_caracteres = len(cadena4)\n",
    "print(contar_caracteres)"
   ]
  },
  {
   "cell_type": "code",
   "execution_count": 21,
   "id": "f0ab78d6",
   "metadata": {},
   "outputs": [
    {
     "name": "stdout",
     "output_type": "stream",
     "text": [
      "True\n"
     ]
    }
   ],
   "source": [
    "# Verificamos si una cadena empieza con otra cadena dada, si es asi devuelve True\n",
    "empieza_con = cadena3.startswith('HO')\n",
    "print(empieza_con)"
   ]
  },
  {
   "cell_type": "code",
   "execution_count": 22,
   "id": "7615e8ba",
   "metadata": {},
   "outputs": [
    {
     "name": "stdout",
     "output_type": "stream",
     "text": [
      "True\n"
     ]
    }
   ],
   "source": [
    "# Verificamos si una cadena termina con otra cadena dada, si es asi devuelve True\n",
    "termina_con = cadena1.endswith('eve')\n",
    "print(termina_con)"
   ]
  },
  {
   "cell_type": "code",
   "execution_count": 23,
   "id": "6be3808b",
   "metadata": {},
   "outputs": [
    {
     "name": "stdout",
     "output_type": "stream",
     "text": [
      "Hola_soy_Steve\n"
     ]
    }
   ],
   "source": [
    "# Si el valor 1, se encuentra en la cadena original, remplaza el valor 1 de la misma, por el valor 2\n",
    "cadena_nueva = cadena1.replace(' ','_')\n",
    "print(cadena_nueva)"
   ]
  },
  {
   "cell_type": "code",
   "execution_count": 24,
   "id": "69d2556e",
   "metadata": {},
   "outputs": [
    {
     "name": "stdout",
     "output_type": "stream",
     "text": [
      "['Bienvenido', 'Capo', 'Mastodonte']\n"
     ]
    }
   ],
   "source": [
    "# Separar cadenas con la cadena que le pase\n",
    "cadena_separada = cadena2.split('_')\n",
    "print(cadena_separada)"
   ]
  },
  {
   "cell_type": "markdown",
   "id": "f661dc7a",
   "metadata": {},
   "source": [
    "# Métodos de una lista"
   ]
  },
  {
   "cell_type": "code",
   "execution_count": 38,
   "id": "f9b75052",
   "metadata": {},
   "outputs": [],
   "source": [
    "# Creando una lista\n",
    "lista = list(['Alex','Fiorella','Max','Nancy',12])\n",
    "lista_1 = list([34,45,67,435,36,6,True,False])"
   ]
  },
  {
   "cell_type": "code",
   "execution_count": 39,
   "id": "d0938ce6",
   "metadata": {},
   "outputs": [
    {
     "name": "stdout",
     "output_type": "stream",
     "text": [
      "5\n"
     ]
    }
   ],
   "source": [
    "# Devuelve la cantidad de elementos de la lista\n",
    "cantidad_elementos = len(lista)\n",
    "print(cantidad_elementos)"
   ]
  },
  {
   "cell_type": "code",
   "execution_count": 40,
   "id": "d206fe78",
   "metadata": {},
   "outputs": [
    {
     "name": "stdout",
     "output_type": "stream",
     "text": [
      "['Alex', 'Fiorella', 'Max', 'Nancy', 12, 'Ivan']\n"
     ]
    }
   ],
   "source": [
    "# Agregando un elemento a la lista\n",
    "lista.append('Ivan')\n",
    "print(lista)"
   ]
  },
  {
   "cell_type": "code",
   "execution_count": 41,
   "id": "af8a9185",
   "metadata": {},
   "outputs": [
    {
     "name": "stdout",
     "output_type": "stream",
     "text": [
      "['Alex', 'Fiorella', 'Max', 'Jefa', 'Nancy', 12, 'Ivan']\n",
      "[34, 45, 67, 435, 100, 36, 6, True, False]\n"
     ]
    }
   ],
   "source": [
    "# Agregando un elemento a la lista en un indice especifico\n",
    "lista.insert(3,'Jefa')\n",
    "lista_1.insert(4,100)\n",
    "print(lista)\n",
    "print(lista_1)"
   ]
  },
  {
   "cell_type": "code",
   "execution_count": 42,
   "id": "3628bc55",
   "metadata": {},
   "outputs": [
    {
     "name": "stdout",
     "output_type": "stream",
     "text": [
      "['Alex', 'Fiorella', 'Max', 'Jefa', 'Nancy', 12, 'Ivan', 'Papacho', 'Mama', 'Orejitas']\n"
     ]
    }
   ],
   "source": [
    "# Agregando varios elementos a la lista\n",
    "lista.extend(['Papacho','Mama','Orejitas'])\n",
    "print(lista)"
   ]
  },
  {
   "cell_type": "code",
   "execution_count": 43,
   "id": "83b79675",
   "metadata": {},
   "outputs": [
    {
     "name": "stdout",
     "output_type": "stream",
     "text": [
      "['Alex', 'Fiorella', 'Max', 'Jefa', 12, 'Ivan', 'Papacho', 'Mama', 'Orejitas']\n"
     ]
    }
   ],
   "source": [
    "# Eliminando un elemento de la lista (por su indice)\n",
    "lista.pop(4) #-1 para eliminar el ultimo, -2 para eliminar el penultimo y asi sucesivamente\n",
    "print(lista)"
   ]
  },
  {
   "cell_type": "code",
   "execution_count": 44,
   "id": "75241c98",
   "metadata": {},
   "outputs": [
    {
     "name": "stdout",
     "output_type": "stream",
     "text": [
      "['Alex', 'Fiorella', 'Max', 'Jefa', 12, 'Papacho', 'Mama', 'Orejitas']\n"
     ]
    }
   ],
   "source": [
    "# Removiendo un elemento de la lista por su valor\n",
    "lista.remove('Ivan')\n",
    "print(lista)"
   ]
  },
  {
   "cell_type": "code",
   "execution_count": 46,
   "id": "8fdac790",
   "metadata": {},
   "outputs": [
    {
     "data": {
      "text/plain": [
       "[False, True, 6, 34, 36, 45, 67, 100, 435]"
      ]
     },
     "execution_count": 46,
     "metadata": {},
     "output_type": "execute_result"
    }
   ],
   "source": [
    "# Ordenamos la lista de forma ascendente (si usamos el parametro reverse=True lo ordena en reversa)\n",
    "lista_1.sort()\n",
    "lista_1"
   ]
  },
  {
   "cell_type": "code",
   "execution_count": 47,
   "id": "13937750",
   "metadata": {},
   "outputs": [
    {
     "data": {
      "text/plain": [
       "[435, 100, 67, 45, 36, 34, 6, True, False]"
      ]
     },
     "execution_count": 47,
     "metadata": {},
     "output_type": "execute_result"
    }
   ],
   "source": [
    "# Invierte los elementos de una lista\n",
    "lista_1.reverse()\n",
    "lista_1"
   ]
  },
  {
   "cell_type": "code",
   "execution_count": 49,
   "id": "81cb9d02",
   "metadata": {},
   "outputs": [
    {
     "data": {
      "text/plain": [
       "2"
      ]
     },
     "execution_count": 49,
     "metadata": {},
     "output_type": "execute_result"
    }
   ],
   "source": [
    "# Verificamos si un elemento se encuentra en la lista\n",
    "elemento_encontrado = lista.index('Max')\n",
    "elemento_encontrado"
   ]
  },
  {
   "cell_type": "code",
   "execution_count": 51,
   "id": "07d4dbad",
   "metadata": {},
   "outputs": [
    {
     "data": {
      "text/plain": [
       "[]"
      ]
     },
     "execution_count": 51,
     "metadata": {},
     "output_type": "execute_result"
    }
   ],
   "source": [
    "# Eliminando todos los elementos de la lista\n",
    "lista.clear()\n",
    "lista"
   ]
  },
  {
   "cell_type": "markdown",
   "id": "fe77fb4d",
   "metadata": {},
   "source": [
    "## Métodos de diccionarios"
   ]
  },
  {
   "cell_type": "code",
   "execution_count": 53,
   "id": "9e6e4b43",
   "metadata": {},
   "outputs": [
    {
     "data": {
      "text/plain": [
       "{'nombre': 'Ivan David',\n",
       " 'apellido': 'Gomez Pariona',\n",
       " 'DNI': 74465231,\n",
       " 'trabajo': 'Ing. Sistemas'}"
      ]
     },
     "execution_count": 53,
     "metadata": {},
     "output_type": "execute_result"
    }
   ],
   "source": [
    "diccionario = {'nombre' : 'Ivan David',\n",
    "               'apellido': 'Gomez Pariona',\n",
    "               'DNI': 74465231,\n",
    "               'trabajo': 'Ing. Sistemas'\n",
    "               }\n",
    "diccionario"
   ]
  },
  {
   "cell_type": "code",
   "execution_count": 54,
   "id": "67317f2a",
   "metadata": {},
   "outputs": [
    {
     "data": {
      "text/plain": [
       "dict_keys(['nombre', 'apellido', 'DNI', 'trabajo'])"
      ]
     },
     "execution_count": 54,
     "metadata": {},
     "output_type": "execute_result"
    }
   ],
   "source": [
    "# Devuelve las claves (tambien nos sirve para iterar)\n",
    "claves = diccionario.keys()\n",
    "claves"
   ]
  },
  {
   "cell_type": "code",
   "execution_count": 56,
   "id": "c09244de",
   "metadata": {},
   "outputs": [
    {
     "data": {
      "text/plain": [
       "'Ivan David'"
      ]
     },
     "execution_count": 56,
     "metadata": {},
     "output_type": "execute_result"
    }
   ],
   "source": [
    "# Devuelve el valor de la clave \n",
    "valor = diccionario.get('nombre')\n",
    "valor"
   ]
  },
  {
   "cell_type": "code",
   "execution_count": 57,
   "id": "02e8a0d1",
   "metadata": {},
   "outputs": [
    {
     "data": {
      "text/plain": [
       "dict_items([('nombre', 'Ivan David'), ('apellido', 'Gomez Pariona'), ('DNI', 74465231), ('trabajo', 'Ing. Sistemas')])"
      ]
     },
     "execution_count": 57,
     "metadata": {},
     "output_type": "execute_result"
    }
   ],
   "source": [
    "#Obteniendo un elemento dict_items iterable\n",
    "diccionario_iterable = diccionario.items()\n",
    "diccionario_iterable"
   ]
  },
  {
   "cell_type": "code",
   "execution_count": 58,
   "id": "82feda8f",
   "metadata": {},
   "outputs": [
    {
     "data": {
      "text/plain": [
       "{'nombre': 'Ivan David',\n",
       " 'apellido': 'Gomez Pariona',\n",
       " 'trabajo': 'Ing. Sistemas'}"
      ]
     },
     "execution_count": 58,
     "metadata": {},
     "output_type": "execute_result"
    }
   ],
   "source": [
    "# Eliminando un elemento del diccionario\n",
    "diccionario.pop('DNI')\n",
    "diccionario"
   ]
  },
  {
   "cell_type": "code",
   "execution_count": 60,
   "id": "fc4d9ea6",
   "metadata": {},
   "outputs": [
    {
     "data": {
      "text/plain": [
       "{}"
      ]
     },
     "execution_count": 60,
     "metadata": {},
     "output_type": "execute_result"
    }
   ],
   "source": [
    "# Elimina todos los elementos\n",
    "diccionario.clear()\n",
    "diccionario"
   ]
  },
  {
   "cell_type": "markdown",
   "id": "cbe8f1d1",
   "metadata": {},
   "source": [
    "## Tuplas"
   ]
  },
  {
   "cell_type": "code",
   "execution_count": 61,
   "id": "304fc319",
   "metadata": {},
   "outputs": [
    {
     "name": "stdout",
     "output_type": "stream",
     "text": [
      "('Sam', 22)\n"
     ]
    }
   ],
   "source": [
    "tupla = ('Sam', 22)\n",
    "print(tupla)"
   ]
  },
  {
   "cell_type": "code",
   "execution_count": 62,
   "id": "b97cca51",
   "metadata": {},
   "outputs": [
    {
     "name": "stdout",
     "output_type": "stream",
     "text": [
      "['Sam', 22]\n"
     ]
    }
   ],
   "source": [
    "lista = list(tupla)\n",
    "print(lista)"
   ]
  },
  {
   "cell_type": "code",
   "execution_count": 63,
   "id": "64f34553",
   "metadata": {},
   "outputs": [
    {
     "name": "stdout",
     "output_type": "stream",
     "text": [
      "['Sam', 18]\n"
     ]
    }
   ],
   "source": [
    "lista[1] = 18\n",
    "print(lista)"
   ]
  },
  {
   "cell_type": "code",
   "execution_count": 64,
   "id": "0336f657",
   "metadata": {},
   "outputs": [
    {
     "name": "stdout",
     "output_type": "stream",
     "text": [
      "{'Sam', 18}\n"
     ]
    }
   ],
   "source": [
    "conjunto = set(lista)\n",
    "print(conjunto)"
   ]
  },
  {
   "cell_type": "code",
   "execution_count": 91,
   "id": "12c7f0b9",
   "metadata": {},
   "outputs": [],
   "source": [
    "tuple_1 = (1, 2, 3, 4)\n",
    "list_1 = [1, 2, 3, 4]\n",
    "str_1 = \"esto es una cadena\""
   ]
  },
  {
   "cell_type": "code",
   "execution_count": 92,
   "id": "0a6bbb6d",
   "metadata": {},
   "outputs": [
    {
     "data": {
      "text/plain": [
       "1"
      ]
     },
     "execution_count": 92,
     "metadata": {},
     "output_type": "execute_result"
    }
   ],
   "source": [
    "tuple_1[0]"
   ]
  },
  {
   "cell_type": "code",
   "execution_count": 93,
   "id": "c979ec15",
   "metadata": {},
   "outputs": [
    {
     "data": {
      "text/plain": [
       "3"
      ]
     },
     "execution_count": 93,
     "metadata": {},
     "output_type": "execute_result"
    }
   ],
   "source": [
    "list_1[0] = 3\n",
    "list_1[0]"
   ]
  },
  {
   "cell_type": "code",
   "execution_count": 94,
   "id": "04385d2a",
   "metadata": {},
   "outputs": [
    {
     "data": {
      "text/plain": [
       "'t'"
      ]
     },
     "execution_count": 94,
     "metadata": {},
     "output_type": "execute_result"
    }
   ],
   "source": [
    "str_1[2]"
   ]
  },
  {
   "cell_type": "code",
   "execution_count": 95,
   "id": "27a168ac",
   "metadata": {},
   "outputs": [],
   "source": [
    "tuple_1 = (1, 2, 3, 4)\n",
    "list_1 = [1, 2, 3, 4]\n",
    "str_1 = \"esto es una cadena\"\n",
    "\n",
    "tuple_2 = tuple(list_1)\n",
    "list_2 = list(tuple_1)\n",
    "tuple_3 = tuple(str_1)"
   ]
  },
  {
   "cell_type": "code",
   "execution_count": 96,
   "id": "ed69dda7",
   "metadata": {},
   "outputs": [
    {
     "name": "stdout",
     "output_type": "stream",
     "text": [
      "(1, 2, 3, 4)\n",
      "[1, 2, 3, 4]\n",
      "('e', 's', 't', 'o', ' ', 'e', 's', ' ', 'u', 'n', 'a', ' ', 'c', 'a', 'd', 'e', 'n', 'a')\n",
      "<class 'tuple'>\n",
      "<class 'list'>\n",
      "<class 'tuple'>\n"
     ]
    }
   ],
   "source": [
    "print (tuple_2)\n",
    "print(list_2)\n",
    "print (tuple_3)\n",
    "\n",
    "print (type(tuple_2))\n",
    "print (type(list_2))\n",
    "print (type(tuple_3))"
   ]
  },
  {
   "cell_type": "code",
   "execution_count": 97,
   "id": "3bee9abc",
   "metadata": {},
   "outputs": [
    {
     "name": "stdout",
     "output_type": "stream",
     "text": [
      "(1, 2, (3, 4), [1, 2, 3])\n",
      "[1, 2, 3, [4, 5], 'prueba', (1, 2, 3)]\n"
     ]
    }
   ],
   "source": [
    "tuple_1 = (1, 2, (3, 4), [1, 2, 3])\n",
    "list_1 = [1, 2, 3, [4, 5], \"prueba\", (1, 2, 3)]\n",
    "print (tuple_1)\n",
    "print (list_1)"
   ]
  },
  {
   "cell_type": "code",
   "execution_count": 98,
   "id": "e02044e5",
   "metadata": {},
   "outputs": [
    {
     "name": "stdout",
     "output_type": "stream",
     "text": [
      "(1, 2, 3, 4, 5, 6, 7, 8)\n",
      "[1, 2, 3, 4, 5, 6, 7, 8]\n",
      "esto es una cadenaesto es otra cadena\n"
     ]
    }
   ],
   "source": [
    "tuple_1 = (1, 2, 3, 4)\n",
    "list_1 = [1, 2, 3, 4]\n",
    "str_1 = \"esto es una cadena\"\n",
    "\n",
    "tuple_2 = (5, 6, 7, 8)\n",
    "list_2 = [5, 6, 7, 8]\n",
    "str_2 = \"esto es otra cadena\"\n",
    "\n",
    "tuple_3 = tuple_1 + tuple_2\n",
    "list_3 = list_1 + list_2\n",
    "str_3 = str_1 + str_2\n",
    "\n",
    "print (tuple_3)\n",
    "print (list_3)\n",
    "print (str_3)"
   ]
  },
  {
   "cell_type": "code",
   "execution_count": 99,
   "id": "acc0ac4b",
   "metadata": {},
   "outputs": [
    {
     "name": "stdout",
     "output_type": "stream",
     "text": [
      "[1, 2, 3, 1, 2, 3]\n"
     ]
    }
   ],
   "source": [
    "list_1 = [1, 2, 3]\n",
    "list_2 = list_1 * 2\n",
    "print (list_2)"
   ]
  },
  {
   "cell_type": "code",
   "execution_count": 100,
   "id": "f901ebb1",
   "metadata": {},
   "outputs": [
    {
     "name": "stdout",
     "output_type": "stream",
     "text": [
      "('hola', 'mundo', 'hola', 'mundo')\n",
      "pruebaprueba\n"
     ]
    }
   ],
   "source": [
    "tuple_1 = (\"hola\", \"mundo\")\n",
    "tuple_2 = tuple_1 * 2\n",
    "print (tuple_2)\n",
    "\n",
    "str_1 = \"prueba\"\n",
    "str_2 = str_1 * 2 \n",
    "print (str_2)"
   ]
  },
  {
   "cell_type": "code",
   "execution_count": 101,
   "id": "84ef5fe9",
   "metadata": {},
   "outputs": [
    {
     "name": "stdout",
     "output_type": "stream",
     "text": [
      "True\n",
      "True\n",
      "True\n",
      "True\n",
      "True\n",
      "True\n"
     ]
    }
   ],
   "source": [
    "tuple_1 = (1, 2, 3, 4)\n",
    "list_1 = [1, 2, 3, 4]\n",
    "str_1 = \"esto es una cadena\"\n",
    "\n",
    "print (4 in tuple_1)\n",
    "print (5 not in tuple_1)\n",
    "print (4 in list_1)\n",
    "print (5 not in list_1)\n",
    "print (\"e\" in str_1)\n",
    "print (\"z\" not in str_1)"
   ]
  },
  {
   "cell_type": "code",
   "execution_count": 102,
   "id": "2ba464c5",
   "metadata": {},
   "outputs": [
    {
     "name": "stdout",
     "output_type": "stream",
     "text": [
      "1\n",
      "4\n",
      "e\n"
     ]
    }
   ],
   "source": [
    "tuple_1 = (1, 2, 3, 4)\n",
    "list_1 = [1, 2, 3, 4]\n",
    "str_1 = \"esto es una cadena\"\n",
    "\n",
    "print (tuple_1[0])\n",
    "print (list_1[3])\n",
    "print (str_1[5])"
   ]
  },
  {
   "cell_type": "code",
   "execution_count": 103,
   "id": "938bbe90",
   "metadata": {},
   "outputs": [
    {
     "name": "stdout",
     "output_type": "stream",
     "text": [
      "4\n",
      "2\n",
      "a\n"
     ]
    }
   ],
   "source": [
    "tuple_1 = (1, 2, 3, 4)\n",
    "list_1 = [1, 2, 3, 4]\n",
    "str_1 = \"esto es una cadena\"\n",
    "\n",
    "print (tuple_1[-1])\n",
    "print (list_1[-3])\n",
    "print (str_1[-5])"
   ]
  },
  {
   "cell_type": "code",
   "execution_count": 104,
   "id": "74b0ba3a",
   "metadata": {},
   "outputs": [
    {
     "name": "stdout",
     "output_type": "stream",
     "text": [
      "(1, 2, 3, 4, 5, 6, 7, 8)\n",
      "(3, 4, 5, 6, 7, 8)\n",
      "[1, 2, 3]\n",
      "[3, 4, 5]\n",
      "esto es una cad\n",
      "[1, 4, 7]\n",
      "[8, 7, 6, 5, 4, 3, 2, 1]\n"
     ]
    }
   ],
   "source": [
    "tuple_1 = (1, 2, 3, 4, 5, 6, 7, 8)\n",
    "list_1 = [1, 2, 3, 4, 5, 6, 7, 8]\n",
    "str_1 = \"esto es una cadena\"\n",
    "\n",
    "print (tuple_1[:])\n",
    "print (tuple_1[2:])\n",
    "print (list_1[:3])\n",
    "print (list_1[2:5])\n",
    "print (str_1[:-3])\n",
    "print (list_1[::3])\n",
    "print (list_1[::-1])"
   ]
  },
  {
   "cell_type": "code",
   "execution_count": 105,
   "id": "0b79e78f",
   "metadata": {},
   "outputs": [
    {
     "name": "stdout",
     "output_type": "stream",
     "text": [
      "[1, 2, 3, 4, 5, 6, 7, 8]\n",
      "[25, 2, 3]\n"
     ]
    }
   ],
   "source": [
    "list_2 = list_1[:3]\n",
    "list_2[0] = 25\n",
    "print (list_1)\n",
    "print (list_2)"
   ]
  },
  {
   "cell_type": "code",
   "execution_count": 106,
   "id": "14190824",
   "metadata": {
    "scrolled": true
   },
   "outputs": [
    {
     "name": "stdout",
     "output_type": "stream",
     "text": [
      "4\n",
      "4\n",
      "18\n"
     ]
    }
   ],
   "source": [
    "tuple_1 = (1, 2, 3, 4)\n",
    "list_1 = [1, 2, 3, 4]\n",
    "str_1 = \"esto es una cadena\"\n",
    "\n",
    "print (len(tuple_1))\n",
    "print (len(list_1))\n",
    "print (len(str_1))"
   ]
  },
  {
   "cell_type": "code",
   "execution_count": 107,
   "id": "19445ffd",
   "metadata": {},
   "outputs": [
    {
     "name": "stdout",
     "output_type": "stream",
     "text": [
      "2\n",
      "3\n",
      "10\n"
     ]
    }
   ],
   "source": [
    "tuple_1 = (1, 2, 3, 4)\n",
    "list_1 = [1, 2, 3, 4]\n",
    "str_1 = \"esto es una cadena\"\n",
    "\n",
    "print (tuple_1.index(3))\n",
    "print (list_1.index(4))\n",
    "print (str_1.index(\"a\"))"
   ]
  },
  {
   "cell_type": "code",
   "execution_count": 108,
   "id": "8ecc711d",
   "metadata": {},
   "outputs": [
    {
     "name": "stdout",
     "output_type": "stream",
     "text": [
      "2\n",
      "1\n",
      "3\n"
     ]
    }
   ],
   "source": [
    "tuple_1 = (1, 1, 3, 4)\n",
    "list_1 = [1, 2, 3, 4]\n",
    "str_1 = \"esto es una cadena\"\n",
    "\n",
    "print (tuple_1.count(1))\n",
    "print (list_1.count(1))\n",
    "print (str_1.count(\"e\"))"
   ]
  },
  {
   "cell_type": "code",
   "execution_count": 109,
   "id": "d935cd2c",
   "metadata": {},
   "outputs": [
    {
     "name": "stdout",
     "output_type": "stream",
     "text": [
      "1\n",
      "2\n",
      "3\n",
      "4\n"
     ]
    }
   ],
   "source": [
    "tuple_1 = (1, 2, 3, 4)\n",
    "var_1, var_2, var_3, var_4 = tuple_1\n",
    "\n",
    "print(var_1)\n",
    "print(var_2)\n",
    "print(var_3)\n",
    "print(var_4)"
   ]
  },
  {
   "cell_type": "code",
   "execution_count": 110,
   "id": "bf0e7cb0",
   "metadata": {},
   "outputs": [
    {
     "name": "stdout",
     "output_type": "stream",
     "text": [
      "[(1, 'uno', 'seis'), (2, 'dos', 'siete'), (3, 'tres', 'ocho'), (4, 'cuatro', 'nueve')]\n"
     ]
    }
   ],
   "source": [
    "tuple_1 = (1, 2, 3, 4, 5)\n",
    "list_1 = [\"uno\", \"dos\", \"tres\", \"cuatro\", \"cinco\"]\n",
    "list_2 = ['seis', 'siete', 'ocho', 'nueve']\n",
    "\n",
    "tuple_list = zip(tuple_1, list_1, list_2)\n",
    "print (list(tuple_list))"
   ]
  },
  {
   "cell_type": "code",
   "execution_count": 111,
   "id": "5267ab3c",
   "metadata": {},
   "outputs": [
    {
     "name": "stdout",
     "output_type": "stream",
     "text": [
      "range(0, 10)\n"
     ]
    }
   ],
   "source": [
    "list_1 = range(10)\n",
    "print (list_1)"
   ]
  },
  {
   "cell_type": "code",
   "execution_count": 112,
   "id": "e12913f2",
   "metadata": {},
   "outputs": [
    {
     "name": "stdout",
     "output_type": "stream",
     "text": [
      "[0, 1, 2, 3, 4, 5, 6, 7, 8, 9]\n"
     ]
    }
   ],
   "source": [
    "list_1 = range(10)\n",
    "print (list(list_1))"
   ]
  },
  {
   "cell_type": "code",
   "execution_count": 113,
   "id": "abd63980",
   "metadata": {},
   "outputs": [
    {
     "name": "stdout",
     "output_type": "stream",
     "text": [
      "range(5, 10)\n",
      "[5, 6, 7, 8, 9]\n",
      "[0, 2, 4, 6, 8, 10, 12, 14, 16, 18, 20, 22, 24, 26, 28, 30, 32, 34, 36, 38, 40, 42, 44, 46, 48, 50, 52, 54, 56, 58, 60, 62, 64, 66, 68, 70, 72, 74, 76, 78, 80, 82, 84, 86, 88, 90, 92, 94, 96, 98]\n"
     ]
    }
   ],
   "source": [
    "list_2 = range(5, 10)\n",
    "print(list_2)\n",
    "print (list(list_2))\n",
    "\n",
    "list_3 = range(0, 100,2)\n",
    "print (list(list_3))"
   ]
  },
  {
   "cell_type": "code",
   "execution_count": 114,
   "id": "3fbc388a",
   "metadata": {},
   "outputs": [
    {
     "name": "stdout",
     "output_type": "stream",
     "text": [
      "['uno', 'dos', 'tres']\n"
     ]
    }
   ],
   "source": [
    "list_1 = [\"uno\", \"dos\"]\n",
    "list_1.append(\"tres\")\n",
    "print (list_1)"
   ]
  },
  {
   "cell_type": "code",
   "execution_count": 115,
   "id": "e47bf603",
   "metadata": {},
   "outputs": [
    {
     "name": "stdout",
     "output_type": "stream",
     "text": [
      "['dos', 'uno', 'tres']\n"
     ]
    }
   ],
   "source": [
    "list_1 = [\"dos\", \"tres\"]\n",
    "list_1.insert(1,\"uno\")\n",
    "print (list_1)"
   ]
  },
  {
   "cell_type": "code",
   "execution_count": 116,
   "id": "a533cb2c",
   "metadata": {},
   "outputs": [
    {
     "name": "stdout",
     "output_type": "stream",
     "text": [
      "[1, 2, 6, 7, 5]\n"
     ]
    }
   ],
   "source": [
    "list_1 = [1, 2, 3, 4, 5]\n",
    "list_1[2:4] = [6,7]\n",
    "print (list_1)"
   ]
  },
  {
   "cell_type": "code",
   "execution_count": 117,
   "id": "8fc8d45f",
   "metadata": {},
   "outputs": [
    {
     "name": "stdout",
     "output_type": "stream",
     "text": [
      "[1, 2, 3, 4]\n"
     ]
    }
   ],
   "source": [
    "list_1[2:5] = [3,4]\n",
    "print (list_1)"
   ]
  },
  {
   "cell_type": "code",
   "execution_count": 118,
   "id": "39ae0a5c",
   "metadata": {},
   "outputs": [
    {
     "name": "stdout",
     "output_type": "stream",
     "text": [
      "4\n",
      "[1, 2, 3, 5]\n"
     ]
    }
   ],
   "source": [
    "list_1 = [1, 2, 3, 4, 5]\n",
    "print (list_1.pop(3))\n",
    "print (list_1)"
   ]
  },
  {
   "cell_type": "code",
   "execution_count": 119,
   "id": "5e0f71ba",
   "metadata": {},
   "outputs": [
    {
     "name": "stdout",
     "output_type": "stream",
     "text": [
      "[1, 2, 3]\n"
     ]
    }
   ],
   "source": [
    "list_1 = [1, 2, 3, [4, 5]]\n",
    "list_1.remove([4,5])\n",
    "print (list_1)"
   ]
  },
  {
   "cell_type": "code",
   "execution_count": 120,
   "id": "422972b5",
   "metadata": {},
   "outputs": [
    {
     "name": "stdout",
     "output_type": "stream",
     "text": [
      "[1, 2, 4, 5]\n"
     ]
    }
   ],
   "source": [
    "list_1 = [1, 2, 3, 4, 5]\n",
    "del list_1[2]\n",
    "print (list_1)"
   ]
  },
  {
   "cell_type": "code",
   "execution_count": 121,
   "id": "fa2ac80d",
   "metadata": {},
   "outputs": [
    {
     "name": "stdout",
     "output_type": "stream",
     "text": [
      "[5, 4, 3, 2, 1]\n"
     ]
    }
   ],
   "source": [
    "list_1 = [1, 3, 4, 2, 5]\n",
    "list_1.sort()\n",
    "\n",
    "list_1.sort(reverse=True)\n",
    "print (list_1)"
   ]
  },
  {
   "cell_type": "code",
   "execution_count": 122,
   "id": "67db2d10",
   "metadata": {},
   "outputs": [
    {
     "name": "stdout",
     "output_type": "stream",
     "text": [
      "[5, 4, 3, 2, 1]\n"
     ]
    }
   ],
   "source": [
    "list_1 = [1, 2, 3, 4, 5]\n",
    "list_1.reverse()\n",
    "print (list_1)"
   ]
  },
  {
   "cell_type": "code",
   "execution_count": 123,
   "id": "22eeb29b",
   "metadata": {},
   "outputs": [
    {
     "name": "stdout",
     "output_type": "stream",
     "text": [
      "[1, 3, 4, 2, 5, 7, 8]\n"
     ]
    }
   ],
   "source": [
    "list_1 = [1, 3, 4, 2, 5]\n",
    "list_2 = [7, 8]\n",
    "list_1.extend(list_2)\n",
    "print(list_1)"
   ]
  },
  {
   "cell_type": "code",
   "execution_count": 124,
   "id": "e4b5b55c",
   "metadata": {},
   "outputs": [
    {
     "data": {
      "text/plain": [
       "[1, 3, 4, 2, 5, 7, 8]"
      ]
     },
     "execution_count": 124,
     "metadata": {},
     "output_type": "execute_result"
    }
   ],
   "source": [
    "list_1 = [1, 3, 4, 2, 5]\n",
    "list_2 = [7, 8]\n",
    "final_list = list_1 + list_2\n",
    "final_list"
   ]
  },
  {
   "cell_type": "code",
   "execution_count": 125,
   "id": "288a7d74",
   "metadata": {},
   "outputs": [
    {
     "name": "stdout",
     "output_type": "stream",
     "text": [
      "ESTO ES UNA PRUEBA\n",
      "esto es una prueba\n"
     ]
    }
   ],
   "source": [
    "str_1 = \"esto es una prueba\"\n",
    "print (str_1.upper())\n",
    "\n",
    "str_2 = \"ESTO ES UNA PRUEBA\"\n",
    "print (str_2.lower())"
   ]
  },
  {
   "cell_type": "code",
   "execution_count": 126,
   "id": "989320f7",
   "metadata": {},
   "outputs": [
    {
     "name": "stdout",
     "output_type": "stream",
     "text": [
      "['esto', 'es', 'una', 'prueba']\n"
     ]
    }
   ],
   "source": [
    "str_1 = \"esto es una prueba\"\n",
    "print (str_1.split(\" \"))"
   ]
  },
  {
   "cell_type": "code",
   "execution_count": 127,
   "id": "6a9fbd92",
   "metadata": {},
   "outputs": [
    {
     "name": "stdout",
     "output_type": "stream",
     "text": [
      "esto es otra prueba otra\n",
      "esto es otra prueba una\n"
     ]
    }
   ],
   "source": [
    "str_1 = \"esto es una prueba una\"\n",
    "print (str_1.replace(\"una\", \"otra\"))\n",
    "print (str_1.replace(\"una\", \"otra\", 1))"
   ]
  },
  {
   "cell_type": "code",
   "execution_count": 128,
   "id": "3ac03735",
   "metadata": {},
   "outputs": [
    {
     "name": "stdout",
     "output_type": "stream",
     "text": [
      "{'clave_1': 1, 'clave_2': 'prueba'}\n",
      "{10: 1, 2: 2}\n"
     ]
    }
   ],
   "source": [
    "dict_1 = {\"clave_1\":1, \"clave_2\":\"prueba\"}\n",
    "print (dict_1)\n",
    "\n",
    "dict_2 = {10:1, 2:2}\n",
    "print (dict_2)"
   ]
  },
  {
   "cell_type": "code",
   "execution_count": 129,
   "id": "58ef657f",
   "metadata": {},
   "outputs": [
    {
     "name": "stdout",
     "output_type": "stream",
     "text": [
      "{'clave_1': 1, 'clave_2': {'clave_21': [1, 2, 3], 'clave_22': 'prueba'}}\n"
     ]
    }
   ],
   "source": [
    "dict_1 = {\"clave_1\": 1, \"clave_2\": {\"clave_21\": [1, 2, 3], \"clave_22\": \"prueba\"}}\n",
    "print (dict_1)"
   ]
  },
  {
   "cell_type": "code",
   "execution_count": 130,
   "id": "9241945e",
   "metadata": {},
   "outputs": [
    {
     "name": "stdout",
     "output_type": "stream",
     "text": [
      "{'uno': 1, 'dos': 2, 'tres': 3, 'cuatro': 4, 'cinco': 5}\n"
     ]
    }
   ],
   "source": [
    "tuple_1 = (1, 2, 3, 4, 5)\n",
    "list_1 = [\"uno\", \"dos\", \"tres\", \"cuatro\", \"cinco\"]\n",
    "dict_1 = dict(zip(list_1, tuple_1))\n",
    "print (dict_1)"
   ]
  },
  {
   "cell_type": "code",
   "execution_count": 131,
   "id": "85c193d5",
   "metadata": {},
   "outputs": [
    {
     "name": "stdout",
     "output_type": "stream",
     "text": [
      "{'clave_1': 1, 'clave_2': 2, 'clave_3': 3, 'clave_4': 4}\n"
     ]
    }
   ],
   "source": [
    "dict_1 = {\"clave_1\": 1, \"clave_2\": 2}\n",
    "dict_2 = {\"clave_3\": 3, \"clave_4\": 4}\n",
    "dict_1.update(dict_2)\n",
    "print(dict_1)"
   ]
  },
  {
   "cell_type": "code",
   "execution_count": 132,
   "id": "88c8042f",
   "metadata": {},
   "outputs": [
    {
     "name": "stdout",
     "output_type": "stream",
     "text": [
      "{'clave_1': 50, 'clave_2': 2, 'clave_3': 'prueba'}\n"
     ]
    }
   ],
   "source": [
    "dict_1 = {\"clave_1\": 1, \"clave_2\": 2}\n",
    "dict_1[\"clave_3\"] = \"prueba\"\n",
    "dict_1[\"clave_1\"] = 50\n",
    "print(dict_1)"
   ]
  },
  {
   "cell_type": "code",
   "execution_count": 133,
   "id": "856bcee6",
   "metadata": {},
   "outputs": [
    {
     "name": "stdout",
     "output_type": "stream",
     "text": [
      "prueba\n",
      "{'clave_1': 1}\n"
     ]
    }
   ],
   "source": [
    "dict_1 = {'clave_1': 1, \"clave_2\": 'prueba'}\n",
    "print (dict_1.pop('clave_2'))\n",
    "print (dict_1)"
   ]
  },
  {
   "cell_type": "code",
   "execution_count": 134,
   "id": "6a0b3f7d",
   "metadata": {},
   "outputs": [
    {
     "name": "stdout",
     "output_type": "stream",
     "text": [
      "True\n",
      "False\n"
     ]
    }
   ],
   "source": [
    "dict_1 = {'clave_1': 1, 'clave_2': 'prueba'}\n",
    "print ('clave_1' in dict_1)\n",
    "print (1 in dict_1)"
   ]
  },
  {
   "cell_type": "code",
   "execution_count": 135,
   "id": "d6496ef6",
   "metadata": {},
   "outputs": [
    {
     "name": "stdout",
     "output_type": "stream",
     "text": [
      "{'clave_2': 'prueba'}\n"
     ]
    }
   ],
   "source": [
    "dic_1 = {'clave_1': 1, 'clave_2': 'prueba'}\n",
    "del dict_1['clave_1']\n",
    "print (dict_1)"
   ]
  },
  {
   "cell_type": "code",
   "execution_count": 136,
   "id": "64c070ac",
   "metadata": {},
   "outputs": [
    {
     "name": "stdout",
     "output_type": "stream",
     "text": [
      "{}\n"
     ]
    }
   ],
   "source": [
    "dict_1 = {'clave_1': 1, 'clave_2': 'prueba'}\n",
    "dict_1.clear()\n",
    "print (dict_1)"
   ]
  },
  {
   "cell_type": "code",
   "execution_count": 137,
   "id": "5e3a9d79",
   "metadata": {},
   "outputs": [
    {
     "name": "stdout",
     "output_type": "stream",
     "text": [
      "1\n"
     ]
    }
   ],
   "source": [
    "dict_1 = {'clave_1': 1, 'clave_2': 'prueba'}\n",
    "print (dict_1[\"clave_1\"])"
   ]
  },
  {
   "cell_type": "code",
   "execution_count": 138,
   "id": "8dd2efbf",
   "metadata": {},
   "outputs": [
    {
     "name": "stdout",
     "output_type": "stream",
     "text": [
      "[('clave_1', 1), ('clave_2', 2), ('clave_3', 3)]\n"
     ]
    }
   ],
   "source": [
    "dict_1 = {\"clave_1\": 1, \"clave_2\": 2, \"clave_3\": 3}\n",
    "print (list(dict_1.items()))"
   ]
  },
  {
   "cell_type": "code",
   "execution_count": 139,
   "id": "0fa21ec0",
   "metadata": {},
   "outputs": [
    {
     "name": "stdout",
     "output_type": "stream",
     "text": [
      "['clave_1', 'clave_2', 'clave_3']\n"
     ]
    }
   ],
   "source": [
    "dict_1 = {\"clave_1\": 1, \"clave_2\": 2, \"clave_3\": 3}\n",
    "print (list(dict_1.keys()))"
   ]
  },
  {
   "cell_type": "code",
   "execution_count": 140,
   "id": "4e2a9d17",
   "metadata": {},
   "outputs": [
    {
     "name": "stdout",
     "output_type": "stream",
     "text": [
      "[1, 2, 3]\n"
     ]
    }
   ],
   "source": [
    "dict_1 = {\"clave_1\": 1, \"clave_2\": 2, \"clave_3\": 3}\n",
    "print (list(dict_1.values()))"
   ]
  },
  {
   "cell_type": "code",
   "execution_count": 141,
   "id": "0f537371",
   "metadata": {},
   "outputs": [
    {
     "name": "stdout",
     "output_type": "stream",
     "text": [
      "{1, 2, 3, 4, 5}\n"
     ]
    }
   ],
   "source": [
    "set_1 = {1, 2, 3, 4, 5}\n",
    "print (set_1)"
   ]
  },
  {
   "cell_type": "code",
   "execution_count": 142,
   "id": "ef4f09ec",
   "metadata": {},
   "outputs": [
    {
     "name": "stdout",
     "output_type": "stream",
     "text": [
      "<class 'set'>\n"
     ]
    }
   ],
   "source": [
    "list_1 = [1, 2, 3, 4, 5]\n",
    "set_1 = set(list_1)\n",
    "print (type(set_1))"
   ]
  },
  {
   "cell_type": "code",
   "execution_count": 143,
   "id": "8bae1ff1",
   "metadata": {},
   "outputs": [
    {
     "name": "stdout",
     "output_type": "stream",
     "text": [
      "{1, 2, 3, 4, 5, 6, 7}\n"
     ]
    }
   ],
   "source": [
    "set_1 = {1, 2, 3, 4, 5}\n",
    "set_2 = {3, 4, 5, 6, 7}\n",
    "print (set_1 | set_2)"
   ]
  },
  {
   "cell_type": "code",
   "execution_count": 144,
   "id": "b14328f6",
   "metadata": {},
   "outputs": [
    {
     "name": "stdout",
     "output_type": "stream",
     "text": [
      "{3, 4, 5}\n"
     ]
    }
   ],
   "source": [
    "set_1 = {1, 2, 3, 4, 5}\n",
    "set_2 = {3, 4, 5, 6, 7}\n",
    "print (set_1 & set_2)"
   ]
  },
  {
   "cell_type": "code",
   "execution_count": 145,
   "id": "6b7b1349",
   "metadata": {},
   "outputs": [
    {
     "name": "stdout",
     "output_type": "stream",
     "text": [
      "{1, 2}\n",
      "{6, 7}\n"
     ]
    }
   ],
   "source": [
    "set_1 = {1, 2, 3, 4, 5}\n",
    "set_2 = {3, 4, 5, 6, 7}\n",
    "print (set_1 - set_2)\n",
    "print (set_2 - set_1)"
   ]
  },
  {
   "cell_type": "code",
   "execution_count": 146,
   "id": "acfce784",
   "metadata": {},
   "outputs": [
    {
     "name": "stdout",
     "output_type": "stream",
     "text": [
      "{1, 2, 6, 7}\n",
      "{1, 2, 6, 7}\n"
     ]
    }
   ],
   "source": [
    "set_1 = {1, 2, 3, 4, 5}\n",
    "set_2 = {3, 4, 5, 6, 7}\n",
    "print (set_1 ^ set_2)\n",
    "print (set_2 ^ set_1)"
   ]
  },
  {
   "cell_type": "code",
   "execution_count": 147,
   "id": "1541fb1d",
   "metadata": {},
   "outputs": [
    {
     "name": "stdout",
     "output_type": "stream",
     "text": [
      "{1, 2, 3, 4, 5, 6}\n"
     ]
    }
   ],
   "source": [
    "set_1 = {1, 2, 3, 4, 5}\n",
    "set_1.add(6)\n",
    "print (set_1)"
   ]
  },
  {
   "cell_type": "code",
   "execution_count": 148,
   "id": "d81099da",
   "metadata": {},
   "outputs": [
    {
     "data": {
      "text/plain": [
       "True"
      ]
     },
     "execution_count": 148,
     "metadata": {},
     "output_type": "execute_result"
    }
   ],
   "source": [
    "set_1 = {1, 2, 3, 4, 5}\n",
    "3 in set_1"
   ]
  },
  {
   "cell_type": "code",
   "execution_count": 149,
   "id": "5df09b02",
   "metadata": {},
   "outputs": [
    {
     "data": {
      "text/plain": [
       "True"
      ]
     },
     "execution_count": 149,
     "metadata": {},
     "output_type": "execute_result"
    }
   ],
   "source": [
    "set_1 = {1, 2, 3, 4, 5}\n",
    "set_2 = {1, 2, 3}\n",
    "set_1 >= set_2"
   ]
  },
  {
   "cell_type": "code",
   "execution_count": 150,
   "id": "de001f80",
   "metadata": {},
   "outputs": [
    {
     "data": {
      "text/plain": [
       "False"
      ]
     },
     "execution_count": 150,
     "metadata": {},
     "output_type": "execute_result"
    }
   ],
   "source": [
    "set_1 = {1, 2, 3, 4, 5}\n",
    "set_2 = {1, 2, 3}\n",
    "set_1 <= set_2"
   ]
  },
  {
   "cell_type": "code",
   "execution_count": 151,
   "id": "145c495c",
   "metadata": {},
   "outputs": [
    {
     "name": "stdout",
     "output_type": "stream",
     "text": [
      "{1, 2, 3, 4}\n"
     ]
    }
   ],
   "source": [
    "set_1 = {1, 2, 3, 4, 5}\n",
    "set_1.remove(5)\n",
    "\n",
    "set_1.discard(6)      #Eliminia elemento (si no exite en el conjunto no pasa nada)\n",
    "print(set_1)"
   ]
  },
  {
   "cell_type": "code",
   "execution_count": 152,
   "id": "0e6e2af9",
   "metadata": {},
   "outputs": [
    {
     "name": "stdout",
     "output_type": "stream",
     "text": [
      "set()\n"
     ]
    }
   ],
   "source": [
    "set_1 = {1, 2, 3, 4, 5}\n",
    "set_1.clear()\n",
    "print (set_1)"
   ]
  }
 ],
 "metadata": {
  "kernelspec": {
   "display_name": "Python 3",
   "language": "python",
   "name": "python3"
  },
  "language_info": {
   "codemirror_mode": {
    "name": "ipython",
    "version": 3
   },
   "file_extension": ".py",
   "mimetype": "text/x-python",
   "name": "python",
   "nbconvert_exporter": "python",
   "pygments_lexer": "ipython3",
   "version": "3.13.7"
  }
 },
 "nbformat": 4,
 "nbformat_minor": 5
}

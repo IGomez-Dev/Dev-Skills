{
 "cells": [
  {
   "cell_type": "markdown",
   "id": "2ec20406",
   "metadata": {},
   "source": [
    "## Build in"
   ]
  },
  {
   "cell_type": "code",
   "execution_count": 50,
   "id": "e7030354",
   "metadata": {},
   "outputs": [
    {
     "name": "stdout",
     "output_type": "stream",
     "text": [
      "42\n"
     ]
    }
   ],
   "source": [
    "numeros = [4,7,1,42,15]\n",
    "\n",
    "# Encontrando el numero mayor de una lista\n",
    "numero_mas_alto = max(numeros)\n",
    "print(numero_mas_alto)"
   ]
  },
  {
   "cell_type": "code",
   "execution_count": 51,
   "id": "eef428cc",
   "metadata": {},
   "outputs": [
    {
     "name": "stdout",
     "output_type": "stream",
     "text": [
      "1\n"
     ]
    }
   ],
   "source": [
    "# Encontrando el numero menor de una lsita\n",
    "numero_mas_bajo = min(numeros)\n",
    "print(numero_mas_bajo)"
   ]
  },
  {
   "cell_type": "code",
   "execution_count": 52,
   "id": "3376d549",
   "metadata": {},
   "outputs": [
    {
     "name": "stdout",
     "output_type": "stream",
     "text": [
      "12.345678\n"
     ]
    }
   ],
   "source": [
    "# Redondeando a 6 decimales\n",
    "numero = round(12.345678, 6)\n",
    "print(numero)"
   ]
  },
  {
   "cell_type": "code",
   "execution_count": 53,
   "id": "89e06bc4",
   "metadata": {},
   "outputs": [
    {
     "name": "stdout",
     "output_type": "stream",
     "text": [
      "False\n"
     ]
    }
   ],
   "source": [
    "# Retorna False -> 0, vacio, False, None \\ True -> distinto a 0, True, cadena, datos no vacios\n",
    "resultado = bool(0)\n",
    "print(resultado)"
   ]
  },
  {
   "cell_type": "code",
   "execution_count": 54,
   "id": "43bd391e",
   "metadata": {},
   "outputs": [
    {
     "name": "stdout",
     "output_type": "stream",
     "text": [
      "False\n"
     ]
    }
   ],
   "source": [
    "# returna True, si todos los valores son verdaderos\n",
    "resultado_all = all([0,'TRUE',[344,23]])\n",
    "print(resultado_all)"
   ]
  },
  {
   "cell_type": "code",
   "execution_count": 55,
   "id": "9bad48a2",
   "metadata": {},
   "outputs": [
    {
     "name": "stdout",
     "output_type": "stream",
     "text": [
      "69\n"
     ]
    }
   ],
   "source": [
    "# Suma todos lso numeros\n",
    "suma_total = sum(numeros)\n",
    "print(suma_total)"
   ]
  },
  {
   "cell_type": "markdown",
   "id": "12989dc2",
   "metadata": {},
   "source": [
    "## Crear Funciones"
   ]
  },
  {
   "cell_type": "code",
   "execution_count": 56,
   "id": "23072dab",
   "metadata": {},
   "outputs": [
    {
     "name": "stdout",
     "output_type": "stream",
     "text": [
      "Hola Ivan, como estas\n"
     ]
    }
   ],
   "source": [
    "# Creando una función simple\n",
    "def saludar():\n",
    "    print('Hola Ivan, como estas')\n",
    "\n",
    "saludar()"
   ]
  },
  {
   "cell_type": "code",
   "execution_count": 57,
   "id": "e4cb3684",
   "metadata": {},
   "outputs": [
    {
     "name": "stdout",
     "output_type": "stream",
     "text": [
      "Hola Ivan, como estas amigo\n"
     ]
    }
   ],
   "source": [
    "def saludar(nombre, sexo):\n",
    "    sexo = sexo.lower()\n",
    "    if sexo == 'mujer':\n",
    "        adjetivo = 'amiga'\n",
    "    elif sexo == 'hombre':\n",
    "        adjetivo = 'amigo'\n",
    "    else:\n",
    "        adjetivo = 'andy'\n",
    "    print('Hola {}, como estas {}'.format(nombre, adjetivo))\n",
    "    \n",
    "saludar('Ivan', 'Hombre')"
   ]
  },
  {
   "cell_type": "code",
   "execution_count": 58,
   "id": "f71e243c",
   "metadata": {},
   "outputs": [
    {
     "name": "stdout",
     "output_type": "stream",
     "text": [
      "bdi6\n"
     ]
    }
   ],
   "source": [
    "# Crear una función que nos retorne valores\n",
    "\n",
    "def crear_contraseña(num):\n",
    "    lista = 'abcdefghij'\n",
    "    string = str(num)\n",
    "    num = int(string[0])\n",
    "    c1 = num - 2\n",
    "    c2 = num\n",
    "    c3 = num - 5\n",
    "    contraseña = '{}{}{}{}'.format(lista[c1], lista[c2], lista[c3],num*2)\n",
    "    return contraseña\n",
    "    \n",
    "contra = crear_contraseña(345)\n",
    "print(contra)"
   ]
  },
  {
   "cell_type": "code",
   "execution_count": 59,
   "id": "af7884f7",
   "metadata": {},
   "outputs": [
    {
     "name": "stdout",
     "output_type": "stream",
     "text": [
      "tu contraseña es bdi6\n",
      "tu numero es 3\n"
     ]
    }
   ],
   "source": [
    "# Crear una función que nos retorne multiple valores\n",
    "\n",
    "def crear_contraseña(num):\n",
    "    lista = 'abcdefghij'\n",
    "    string = str(num)\n",
    "    num = int(string[0])\n",
    "    c1 = num - 2\n",
    "    c2 = num\n",
    "    c3 = num - 5\n",
    "    contraseña = '{}{}{}{}'.format(lista[c1], lista[c2], lista[c3],num*2)\n",
    "    return contraseña, num\n",
    "    \n",
    "contra, numero = crear_contraseña(345)\n",
    "print('tu contraseña es {}'.format(contra))\n",
    "print('tu numero es {}'.format(numero))"
   ]
  },
  {
   "cell_type": "markdown",
   "id": "64f7ef40",
   "metadata": {},
   "source": [
    "## Funciones"
   ]
  },
  {
   "cell_type": "code",
   "execution_count": 60,
   "id": "383badbc",
   "metadata": {},
   "outputs": [
    {
     "name": "stdout",
     "output_type": "stream",
     "text": [
      "Sumar los números 12\n"
     ]
    }
   ],
   "source": [
    "def suma_de_muchos_numeros(a, b):\n",
    "    suma = a + b\n",
    "    return(suma)\n",
    "        \n",
    "print('Sumar los números', suma_de_muchos_numeros(7, 5))"
   ]
  },
  {
   "cell_type": "code",
   "execution_count": 61,
   "id": "13793fc8",
   "metadata": {},
   "outputs": [
    {
     "name": "stdout",
     "output_type": "stream",
     "text": [
      "Sumar los números 21\n"
     ]
    }
   ],
   "source": [
    "def suma_de_muchos_numeros(*numeros):\n",
    "    # numeros = (1, 2, 3, 4, 5, 6)\n",
    "    suma = 0\n",
    "    for num in numeros:\n",
    "        suma += num\n",
    "    return(suma)\n",
    "        \n",
    "print('Sumar los números', suma_de_muchos_numeros(1, 2, 3, 4, 5, 6))"
   ]
  },
  {
   "cell_type": "code",
   "execution_count": 62,
   "id": "a0ea889e",
   "metadata": {},
   "outputs": [
    {
     "name": "stdout",
     "output_type": "stream",
     "text": [
      "IVAN Gomez Pariona\n",
      "IVAN Gomez \n",
      "IVAN Gomez Pariona\n"
     ]
    }
   ],
   "source": [
    "def nombre_completo(nombre, paterno, materno = ''):\n",
    "# Al igualar a vacio hace que no sea obligatorio    \n",
    "    name = nombre.upper() + ' ' + paterno.capitalize() + ' ' + materno.capitalize()\n",
    "    return(name)\n",
    "\n",
    "print(nombre_completo('IvaN', 'Gomez', 'Pariona'))\n",
    "print(nombre_completo('IvaN', 'GoMEz'))\n",
    "print(nombre_completo(materno = 'pArIoNa', paterno = 'GomEZ', nombre = 'IvAN'))"
   ]
  },
  {
   "cell_type": "code",
   "execution_count": 63,
   "id": "5dc384d4",
   "metadata": {},
   "outputs": [
    {
     "name": "stdout",
     "output_type": "stream",
     "text": [
      "GDPI04\n"
     ]
    }
   ],
   "source": [
    "def codigo(nombre, año):\n",
    "    clave = ''\n",
    "    for letra in nombre.split():\n",
    "        bueno = letra.capitalize()\n",
    "        clave += bueno[0]\n",
    "    date = str(año)\n",
    "    clave += date[-2:]\n",
    "    return(clave)\n",
    "\n",
    "print(codigo('gOMez  dAvid pARIPna ivAN', 2004))"
   ]
  },
  {
   "cell_type": "markdown",
   "id": "b8560f4c",
   "metadata": {},
   "source": [
    "## Funciones de datos"
   ]
  },
  {
   "cell_type": "code",
   "execution_count": 64,
   "id": "06c4084d",
   "metadata": {},
   "outputs": [
    {
     "data": {
      "text/plain": [
       "'Hola Ivan Gomez, eres muy organizado'"
      ]
     },
     "execution_count": 64,
     "metadata": {},
     "output_type": "execute_result"
    }
   ],
   "source": [
    "# Creando una funcion de 3 parametros utilizando keyword arguments\n",
    "\n",
    "def frase(nombre, apellido, adjetivo):\n",
    "    return 'Hola {} {}, eres muy {}'.format(nombre, apellido, adjetivo)\n",
    "\n",
    "frase('Ivan', 'Gomez', 'organizado')"
   ]
  },
  {
   "cell_type": "code",
   "execution_count": 65,
   "id": "2d587ffa",
   "metadata": {},
   "outputs": [
    {
     "name": "stdout",
     "output_type": "stream",
     "text": [
      "Hola Ivan Gomez, eres muy Mad\n"
     ]
    }
   ],
   "source": [
    "frase_resultado = frase(adjetivo='Mad',nombre='Ivan',apellido='Gomez')\n",
    "print(frase_resultado)"
   ]
  },
  {
   "cell_type": "code",
   "execution_count": 66,
   "id": "bc18b46c",
   "metadata": {},
   "outputs": [
    {
     "name": "stdout",
     "output_type": "stream",
     "text": [
      "Hola Ivan Gomez, eres muy simply\n"
     ]
    }
   ],
   "source": [
    "def frase(nombre, apellido, adjetivo='simply'):\n",
    "    return 'Hola {} {}, eres muy {}'.format(nombre, apellido, adjetivo)\n",
    "\n",
    "frase_resultado = frase(nombre='Ivan',apellido='Gomez')\n",
    "print(frase_resultado)"
   ]
  },
  {
   "cell_type": "markdown",
   "id": "411c282e",
   "metadata": {},
   "source": [
    "## Lambda"
   ]
  },
  {
   "cell_type": "code",
   "execution_count": 67,
   "id": "7a0ea3cb",
   "metadata": {},
   "outputs": [
    {
     "name": "stdout",
     "output_type": "stream",
     "text": [
      "10\n"
     ]
    }
   ],
   "source": [
    "# Creando una funcion lambda para multiplicar por dos\n",
    "multiplicar_por_dos = lambda x: x*2\n",
    "print(multiplicar_por_dos(5))"
   ]
  },
  {
   "cell_type": "code",
   "execution_count": 68,
   "id": "ae696da6",
   "metadata": {},
   "outputs": [
    {
     "name": "stdout",
     "output_type": "stream",
     "text": [
      "[2, 4, 6, 8]\n"
     ]
    }
   ],
   "source": [
    "# Usando filter con una funcion comun\n",
    "numeros = [1,2,3,4,5,6,7,8]\n",
    "\n",
    "def es_par(num):\n",
    "    if num%2==0:\n",
    "        return True\n",
    "\n",
    "numeros_pares = filter(es_par, numeros)\n",
    "\n",
    "print(list(numeros_pares))"
   ]
  },
  {
   "cell_type": "code",
   "execution_count": 69,
   "id": "40db705d",
   "metadata": {},
   "outputs": [
    {
     "name": "stdout",
     "output_type": "stream",
     "text": [
      "[2, 4, 6, 8]\n"
     ]
    }
   ],
   "source": [
    "numeros = [1,2,3,4,5,6,7,8]\n",
    "numeros_pares = filter(lambda num: num % 2 == 0, numeros)\n",
    "print(list(numeros_pares))"
   ]
  },
  {
   "cell_type": "code",
   "execution_count": 70,
   "id": "7d466966",
   "metadata": {},
   "outputs": [
    {
     "name": "stdout",
     "output_type": "stream",
     "text": [
      "El profesor es: alex y su asistente es nil\n"
     ]
    }
   ],
   "source": [
    "def compañeros(cantidad_compañeros):\n",
    "    compañeros = []\n",
    "    for i in range(cantidad_compañeros):\n",
    "        nombre = input('Ingreso el nombre del compañero:\\t')\n",
    "        edad = int(input('Ingresa la edad del compañero:\\t'))\n",
    "        compañeros.append([nombre, edad])\n",
    "    compañeros.sort(key = lambda x: x[1])\n",
    "    asistente = compañeros[0][0]\n",
    "    profesor = compañeros[-1][0]\n",
    "    return asistente, profesor\n",
    "\n",
    "asistente,profesor = compañeros(5)\n",
    "\n",
    "print(f'El profesor es: {profesor} y su asistente es {asistente}')"
   ]
  },
  {
   "cell_type": "markdown",
   "id": "ee991645",
   "metadata": {},
   "source": [
    "## Parámetro args"
   ]
  },
  {
   "cell_type": "code",
   "execution_count": 71,
   "id": "3757e92f",
   "metadata": {},
   "outputs": [
    {
     "name": "stdout",
     "output_type": "stream",
     "text": [
      "21\n"
     ]
    }
   ],
   "source": [
    "# Forma no optima de sumar valores\n",
    "def suma(lista):\n",
    "    numeros_sumados = 0\n",
    "    for num in lista:\n",
    "        numeros_sumados += num\n",
    "        \n",
    "    return numeros_sumados\n",
    "\n",
    "resultado = suma([1,2,3,4,5,6])\n",
    "print(resultado)"
   ]
  },
  {
   "cell_type": "code",
   "execution_count": 72,
   "id": "fae5db1b",
   "metadata": {},
   "outputs": [
    {
     "name": "stdout",
     "output_type": "stream",
     "text": [
      "Ivan, la suma de tus numeros es: 21\n"
     ]
    }
   ],
   "source": [
    "# Utilizar el operador * como argumento (*args)\n",
    "def suma(nombre,*num):\n",
    "    return '{}, la suma de tus numeros es: {}'.format(nombre,sum(num))\n",
    "\n",
    "resultado = suma('Ivan',1,2,3,4,5,6)\n",
    "print(resultado)"
   ]
  },
  {
   "cell_type": "code",
   "execution_count": 73,
   "id": "e7dce0a5",
   "metadata": {},
   "outputs": [
    {
     "name": "stdout",
     "output_type": "stream",
     "text": [
      "Hola Ivan tu numero es: 48\n"
     ]
    }
   ],
   "source": [
    "# Forma optima de sumar valores\n",
    "def suma_total(num, nombre):\n",
    "    return 'Hola {} tu numero es: {}'.format(nombre, sum([*num]))\n",
    "\n",
    "resultado2 = suma_total(nombre='Ivan',num= [5,3,9,10,21])\n",
    "\n",
    "print(resultado2)"
   ]
  },
  {
   "cell_type": "markdown",
   "id": "6fe7d996",
   "metadata": {},
   "source": [
    "## Práctica"
   ]
  },
  {
   "cell_type": "code",
   "execution_count": 74,
   "id": "a89f1712",
   "metadata": {},
   "outputs": [
    {
     "name": "stdout",
     "output_type": "stream",
     "text": [
      "['CUATRO', 'CINCO']\n"
     ]
    }
   ],
   "source": [
    "list_1 = [\"uno\", \"dos\", \"tres\", \"cuatro\", \"cinco\", \"treinta\"]\n",
    "list_C = [element.upper() for element in list_1 if element[0] == \"c\"]\n",
    "print(list_C)"
   ]
  },
  {
   "cell_type": "code",
   "execution_count": 75,
   "id": "b0f6b135",
   "metadata": {},
   "outputs": [
    {
     "name": "stdout",
     "output_type": "stream",
     "text": [
      "['CUATRO', 'CINCO']\n",
      "['uno']\n",
      "['TRES', 'TREINTA']\n"
     ]
    }
   ],
   "source": [
    "def mi_funcion(lista, inicial, a_mayuscula):\n",
    "    list_out = []\n",
    "    for element in lista:\n",
    "        if element[0] == inicial:\n",
    "            if a_mayuscula:\n",
    "                list_out.append(element.upper())\n",
    "            else:\n",
    "                list_out.append(element.lower())\n",
    "    return list_out\n",
    "\n",
    "list_1 = [\"uno\", \"dos\", \"tres\", \"cuatro\", \"cinco\", \"treinta\"]\n",
    "print(mi_funcion(list_1, \"c\", True))\n",
    "print(mi_funcion(list_1, \"u\", False))\n",
    "print(mi_funcion(list_1, \"t\", True))"
   ]
  },
  {
   "cell_type": "code",
   "execution_count": 76,
   "id": "aba822a7",
   "metadata": {},
   "outputs": [
    {
     "name": "stdout",
     "output_type": "stream",
     "text": [
      "['CUATRO', 'CINCO']\n",
      "['uno']\n",
      "['TRES', 'TREINTA']\n"
     ]
    }
   ],
   "source": [
    "def mi_funcion(lista, inicial, a_mayuscula = True):\n",
    "    list_out = []\n",
    "    for element in lista:\n",
    "        if element[0] == inicial:\n",
    "            if a_mayuscula:\n",
    "                list_out.append(element.upper())\n",
    "            else:\n",
    "                list_out.append(element.lower())\n",
    "    return list_out\n",
    "\n",
    "list_1 = [\"uno\", \"dos\", \"tres\", \"cuatro\", \"cinco\", \"treinta\"]\n",
    "print(mi_funcion(list_1, \"c\"))\n",
    "print(mi_funcion(list_1, \"u\", False))\n",
    "print(mi_funcion(list_1, \"t\", True))"
   ]
  },
  {
   "cell_type": "code",
   "execution_count": 77,
   "id": "7c4a22fe",
   "metadata": {},
   "outputs": [
    {
     "data": {
      "text/plain": [
       "['CUATRO', 'CINCO']"
      ]
     },
     "execution_count": 77,
     "metadata": {},
     "output_type": "execute_result"
    }
   ],
   "source": [
    "list_1 = [\"uno\", \"dos\", \"tres\", \"cuatro\", \"cinco\", \"treinta\"]\n",
    "mi_funcion(inicial = \"c\", lista = list_1)"
   ]
  },
  {
   "cell_type": "code",
   "execution_count": 78,
   "id": "6b4d8207",
   "metadata": {},
   "outputs": [
    {
     "name": "stdout",
     "output_type": "stream",
     "text": [
      "CUATRO\n",
      "CINCO\n"
     ]
    }
   ],
   "source": [
    "def mi_funcion(lista, inicial, a_mayuscula = True):\n",
    "    list_out = []\n",
    "    for element in lista:\n",
    "        if element[0] == inicial:\n",
    "            if a_mayuscula:\n",
    "                list_out.append(element.upper())\n",
    "            else:\n",
    "                list_out.append(element.lower())\n",
    "    return (len(list_out), list_out)\n",
    "\n",
    "list_1 = [\"uno\", \"dos\", \"tres\", \"cuatro\", \"cinco\", \"treinta\"]\n",
    "num_elementos, elementos = mi_funcion(list_1,\"c\")\n",
    "\n",
    "for i in range(0, num_elementos):\n",
    "    print(elementos[i])"
   ]
  }
 ],
 "metadata": {
  "kernelspec": {
   "display_name": "Python 3",
   "language": "python",
   "name": "python3"
  },
  "language_info": {
   "codemirror_mode": {
    "name": "ipython",
    "version": 3
   },
   "file_extension": ".py",
   "mimetype": "text/x-python",
   "name": "python",
   "nbconvert_exporter": "python",
   "pygments_lexer": "ipython3",
   "version": "3.13.7"
  }
 },
 "nbformat": 4,
 "nbformat_minor": 5
}

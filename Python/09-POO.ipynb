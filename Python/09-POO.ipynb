{
 "cells": [
  {
   "cell_type": "code",
   "execution_count": null,
   "id": "2a3bd9b1",
   "metadata": {},
   "outputs": [
    {
     "name": "stdout",
     "output_type": "stream",
     "text": [
      "Ivan de Peru\n"
     ]
    }
   ],
   "source": [
    "def main():\n",
    "    estudiante = obtener_estudiante()\n",
    "    if estudiante[0] == \"Padma\":\n",
    "        estudiante[1] = 'Ravenclaw'\n",
    "    print(f\"{estudiante[0]} de {estudiante[1]}\")\n",
    "\n",
    "def obtener_estudiante():\n",
    "    nombre = input('Nombre: ').capitalize()\n",
    "    casa = input('House: ').capitalize()\n",
    "    return [nombre, casa]\n",
    "\n",
    "if __name__ == '__main__':\n",
    "    main()"
   ]
  },
  {
   "cell_type": "code",
   "execution_count": 11,
   "id": "0336e92b",
   "metadata": {},
   "outputs": [
    {
     "name": "stdout",
     "output_type": "stream",
     "text": [
      "Ivan de Peru\n"
     ]
    }
   ],
   "source": [
    "def main():\n",
    "    estudiante = obtener_estudiante()\n",
    "    print(f\"{estudiante['nombre']} de {estudiante['casa']}\")\n",
    "\n",
    "def obtener_estudiante():\n",
    "    estudiante = {}\n",
    "    estudiante['nombre'] = input('Nombre: ').capitalize()\n",
    "    estudiante['casa'] = input('House: ').capitalize()\n",
    "    return estudiante\n",
    "\n",
    "if __name__ == '__main__':\n",
    "    main()"
   ]
  },
  {
   "cell_type": "code",
   "execution_count": 13,
   "id": "bebd597c",
   "metadata": {},
   "outputs": [
    {
     "name": "stdout",
     "output_type": "stream",
     "text": [
      "Padma de Ravenclaw\n"
     ]
    }
   ],
   "source": [
    "def main():\n",
    "    estudiante = obtener_estudiante()\n",
    "    if estudiante['nombre'] == 'Padma':\n",
    "        estudiante['casa'] = 'Ravenclaw'\n",
    "    print(f\"{estudiante['nombre']} de {estudiante['casa']}\")\n",
    "\n",
    "def obtener_estudiante():\n",
    "    nombre = input('Nombre: ').capitalize()\n",
    "    casa = input('House: ').capitalize()\n",
    "    return {'nombre': nombre, 'casa': casa}\n",
    "\n",
    "if __name__ == '__main__':\n",
    "    main()"
   ]
  },
  {
   "cell_type": "code",
   "execution_count": null,
   "id": "844786a6",
   "metadata": {},
   "outputs": [
    {
     "name": "stdout",
     "output_type": "stream",
     "text": [
      "Harry de Gryffindor\n"
     ]
    }
   ],
   "source": [
    "class Estudiante:\n",
    "    ...\n",
    "\n",
    "\n",
    "def main():\n",
    "    estudiante = obtener_estudiante()\n",
    "    print(f\"{estudiante.nombre} de {estudiante.casa}\")\n",
    "\n",
    "def obtener_estudiante():\n",
    "    estudiante = Estudiante()\n",
    "    estudiante.nombre = input('Nombre: ')\n",
    "    estudiante.casa = input('Casa: ')\n",
    "    return estudiante\n",
    "\n",
    "if __name__ == '__main__':\n",
    "    main()"
   ]
  },
  {
   "cell_type": "code",
   "execution_count": null,
   "id": "ffccfd43",
   "metadata": {},
   "outputs": [],
   "source": [
    "class Estudiante:\n",
    "    def __init__(self, nombre, casa):\n",
    "        self.nombre = nombre\n",
    "        self.casa = casa\n",
    "\n",
    "def main():\n",
    "    estudiante = obtener_estudiante()\n",
    "    print(f\"{estudiante.nombre} de {estudiante.casa}\")\n",
    "\n",
    "def obtener_estudiante():\n",
    "    nombre = input('Nombre: ')\n",
    "    casa = input('Casa: ')\n",
    "    estudiante = Estudiante(nombre, casa)\n",
    "    return estudiante\n",
    "\n",
    "if __name__ == '__main__':\n",
    "    main()"
   ]
  },
  {
   "cell_type": "code",
   "execution_count": null,
   "id": "c636c557",
   "metadata": {},
   "outputs": [],
   "source": [
    "class Estudiante:\n",
    "    def __init__(self, nombre, casa):\n",
    "        self.nombre = nombre\n",
    "        self.casa = casa\n",
    "\n",
    "def main():\n",
    "    estudiante = obtener_estudiante()\n",
    "    print(f\"{estudiante.nombre} de {estudiante.casa}\")\n",
    "\n",
    "def obtener_estudiante():\n",
    "    nombre = input('Nombre: ')\n",
    "    casa = input('Casa: ')\n",
    "    estudiante = Estudiante(nombre, casa)\n",
    "    return estudiante\n",
    "\n",
    "if __name__ == '__main__':\n",
    "    main()"
   ]
  },
  {
   "cell_type": "code",
   "execution_count": 5,
   "id": "c87f7e76",
   "metadata": {},
   "outputs": [
    {
     "name": "stdout",
     "output_type": "stream",
     "text": [
      "Ivan de Huancayo\n"
     ]
    }
   ],
   "source": [
    "class Estudiante:\n",
    "    def __init__(self, nombre, casa):\n",
    "        if not nombre:\n",
    "            raise ValueError('Nombre faltante')\n",
    "        if casa not in ['Huancayo', 'Ayacucho', 'Lima', 'Arequipa']:\n",
    "            raise ValueError('Casa invalida')\n",
    "        self.nombre = nombre\n",
    "        self.casa = casa\n",
    "\n",
    "def main():\n",
    "    estudiante = obtener_estudiante()\n",
    "    print(f\"{estudiante.nombre} de {estudiante.casa}\")\n",
    "\n",
    "def obtener_estudiante():\n",
    "    nombre = input('Nombre: ').capitalize()\n",
    "    casa = input('Casa: ').capitalize()\n",
    "    return Estudiante(nombre, casa)\n",
    "\n",
    "\n",
    "if __name__ == '__main__':\n",
    "    main()"
   ]
  },
  {
   "cell_type": "code",
   "execution_count": null,
   "id": "7f6d18ec",
   "metadata": {},
   "outputs": [
    {
     "name": "stdout",
     "output_type": "stream",
     "text": [
      "Ivan de Huancayo\n"
     ]
    }
   ],
   "source": [
    "class Estudiante:\n",
    "    def __init__(self, nombre, casa, poder):\n",
    "        if not nombre:\n",
    "            raise ValueError('Nombre faltante')\n",
    "        if casa not in ['Huancayo', 'Ayacucho', 'Lima', 'Arequipa']:\n",
    "            raise ValueError('Casa invalida')\n",
    "        self.nombre = nombre\n",
    "        self.casa = casa\n",
    "        self.poder = poder\n",
    "\n",
    "    def __str__(self):\n",
    "        return f'{self.nombre} de {self.casa}'\n",
    "\n",
    "def main():\n",
    "    estudiante = obtener_estudiante()\n",
    "    print(estudiante)\n",
    "\n",
    "def obtener_estudiante():\n",
    "    nombre = input('Nombre: ').capitalize()\n",
    "    casa = input('Casa: ').capitalize()\n",
    "    return Estudiante(nombre, casa)\n",
    "\n",
    "\n",
    "if __name__ == '__main__':\n",
    "    main()"
   ]
  },
  {
   "cell_type": "code",
   "execution_count": 1,
   "id": "8f5e2992",
   "metadata": {},
   "outputs": [
    {
     "name": "stdout",
     "output_type": "stream",
     "text": [
      "Expecto Patronum!\n",
      "🪄\n"
     ]
    }
   ],
   "source": [
    "class Estudiante:\n",
    "    def __init__(self, nombre, casa, poder):\n",
    "        if not nombre:\n",
    "            raise ValueError('Nombre faltante')\n",
    "        if casa not in ['Huancayo', 'Ayacucho', 'Lima', 'Arequipa']:\n",
    "            raise ValueError('Casa invalida')\n",
    "        self.nombre = nombre\n",
    "        self.casa = casa\n",
    "        self.poder = poder\n",
    "\n",
    "    def __str__(self):\n",
    "        return f'{self.nombre} de {self.casa}'\n",
    "    \n",
    "    def charm(self):\n",
    "        match self.poder:\n",
    "            case 'Stag':\n",
    "                return '🐴'\n",
    "            case 'Otter':\n",
    "                return '🍬'\n",
    "            case 'Jack Russell Terrier':\n",
    "                return '🐶'\n",
    "            case _:\n",
    "                return '🪄'\n",
    "\n",
    "def main():\n",
    "    estudiante = obtener_estudiante()\n",
    "    print(\"Expecto Patronum!\")\n",
    "    print(estudiante.charm())\n",
    "\n",
    "def obtener_estudiante():\n",
    "    nombre = input('Nombre: ').capitalize()\n",
    "    casa = input('Casa: ').capitalize()\n",
    "    poder = input('Poder: ').capitalize()\n",
    "    return Estudiante(nombre, casa, poder)\n",
    "\n",
    "\n",
    "if __name__ == '__main__':\n",
    "    main()"
   ]
  },
  {
   "cell_type": "code",
   "execution_count": null,
   "id": "e11932c5",
   "metadata": {},
   "outputs": [
    {
     "name": "stdout",
     "output_type": "stream",
     "text": [
      "Ivan de Huancayo\n"
     ]
    }
   ],
   "source": [
    "class Estudiante:\n",
    "    def __init__(self, nombre, casa):\n",
    "        self.nombre = nombre\n",
    "        self.casa = casa\n",
    "\n",
    "    def __str__(self):\n",
    "        return f'{self.nombre} de {self.casa}'\n",
    "    \n",
    "    @property\n",
    "    def casa(self):\n",
    "        return self._casa\n",
    "    \n",
    "    @casa.setter\n",
    "    def casa(self, casa):\n",
    "        if casa not in ['Huancayo', 'Ayacucho', 'Lima', 'Arequipa']:\n",
    "            raise ValueError('Casa invalida')\n",
    "        self._casa = casa\n",
    "\n",
    "    @property\n",
    "    def nombre(self):\n",
    "        return self._nombre\n",
    "    \n",
    "    @nombre.setter\n",
    "    def nombre(self, nombre):\n",
    "        if not nombre:\n",
    "            raise ValueError('Nombre faltante')\n",
    "        self._nombre = nombre\n",
    "\n",
    "def main():\n",
    "    estudiante = obtener_estudiante()\n",
    "    print(estudiante)\n",
    "\n",
    "def obtener_estudiante():\n",
    "    nombre = input('Nombre: ').capitalize()\n",
    "    casa = input('Casa: ').capitalize()\n",
    "    return Estudiante(nombre, casa)\n",
    "\n",
    "\n",
    "if __name__ == '__main__':\n",
    "    main()"
   ]
  },
  {
   "cell_type": "code",
   "execution_count": null,
   "id": "25bc04d5",
   "metadata": {},
   "outputs": [],
   "source": [
    "import random\n",
    "\n",
    "class Hat:\n",
    "    def __init__(self):\n",
    "        self.casas = ['Gryffindor', 'Hufflepuff', 'Ravenclaw', 'Slytherin']\n",
    "\n",
    "    def sort(self, nombre):\n",
    "        print(nombre, 'esta en', random.choice(self.casas))\n",
    "\n",
    "\n",
    "hat = Hat()\n",
    "hat.sort('Harry')"
   ]
  },
  {
   "cell_type": "code",
   "execution_count": null,
   "id": "44785f23",
   "metadata": {},
   "outputs": [],
   "source": [
    "import random\n",
    "\n",
    "class Hat:\n",
    "    casas = ['Gryffindor', 'Hufflepuff', 'Ravenclaw', 'Slytherin']\n",
    "\n",
    "    @classmethod\n",
    "    def sort(cls, nombre):\n",
    "        print(nombre, 'esta en', random.choice(cls.casas))\n",
    "\n",
    "\n",
    "\n",
    "print(Hat.casas)\n",
    "Hat.sort('Harry')"
   ]
  },
  {
   "cell_type": "code",
   "execution_count": 1,
   "id": "8ae656a2",
   "metadata": {},
   "outputs": [
    {
     "name": "stdout",
     "output_type": "stream",
     "text": [
      "Ivan de Peur\n"
     ]
    }
   ],
   "source": [
    "class Estudiante:\n",
    "    def __init__(self, nombre, casa):\n",
    "        self.nombre = nombre\n",
    "        self.casa = casa\n",
    "\n",
    "    def __str__(self):\n",
    "        return f'{self.nombre} de {self.casa}'\n",
    "    \n",
    "    @classmethod\n",
    "    def obtener(cls):\n",
    "        nombre = input('Nombre: ').capitalize()\n",
    "        casa = input('Casa: ').capitalize()\n",
    "        return cls(nombre, casa)\n",
    "\n",
    "def main():\n",
    "    estudiante = Estudiante.obtener()\n",
    "    print(estudiante)\n",
    "\n",
    "\n",
    "if __name__ == '__main__':\n",
    "    main()"
   ]
  },
  {
   "cell_type": "code",
   "execution_count": null,
   "id": "74ff5e64",
   "metadata": {},
   "outputs": [],
   "source": [
    "class Wizard:\n",
    "    def __init__(self, name):\n",
    "        self.name = name\n",
    "\n",
    "    ...\n",
    "\n",
    "class Student(Wizard):\n",
    "    def __init__(self, name, house):\n",
    "        super().__init__(name)\n",
    "        self.house = house\n",
    "\n",
    "    ...\n",
    "\n",
    "class Professor(Wizard):\n",
    "    def __init__(self, name, subject):\n",
    "        super().__init__(name)\n",
    "        self.subject = subject\n",
    "\n",
    "    ..."
   ]
  },
  {
   "cell_type": "code",
   "execution_count": 2,
   "id": "ddd77c8a",
   "metadata": {},
   "outputs": [
    {
     "name": "stdout",
     "output_type": "stream",
     "text": [
      "10 Galleons, 5 Sickles, 3 Knuts\n",
      "3 Galleons, 5 Sickles, 10 Knuts\n",
      "13 Galleons, 10 Sickles, 13 Knuts\n"
     ]
    }
   ],
   "source": [
    "class Vault:\n",
    "    def __init__(self, galleons=0, sickles=0, knuts=0):\n",
    "        self.galleons = galleons\n",
    "        self.sickles = sickles\n",
    "        self.knuts = knuts\n",
    "    \n",
    "    def __str__(self):\n",
    "        return f'{self.galleons} Galleons, {self.sickles} Sickles, {self.knuts} Knuts'\n",
    "    \n",
    "    def __add__(self, other):\n",
    "        galleons = self.galleons + other.galleons\n",
    "        sickles = self.sickles + other.sickles\n",
    "        knuts = self.knuts + other.knuts\n",
    "        return Vault(galleons, sickles, knuts)\n",
    "    \n",
    "potter = Vault(10, 5, 3)\n",
    "print(potter)\n",
    "\n",
    "weasley = Vault(3, 5, 10)\n",
    "print(weasley)\n",
    "\n",
    "total = potter + weasley\n",
    "print(total)"
   ]
  },
  {
   "cell_type": "markdown",
   "id": "2b118296",
   "metadata": {},
   "source": [
    "## Clases y Objetos"
   ]
  },
  {
   "cell_type": "code",
   "execution_count": 1,
   "id": "cc7ba5a8",
   "metadata": {},
   "outputs": [
    {
     "name": "stdout",
     "output_type": "stream",
     "text": [
      "Ferrari\n",
      "1200000\n",
      "RB19\n"
     ]
    }
   ],
   "source": [
    "class Auto():\n",
    "    def __init__(self, marca, modelo, precio):\n",
    "        # atributos\n",
    "        self.marca = marca\n",
    "        self.modelo = modelo\n",
    "        self.precio = precio\n",
    "        \n",
    "Ferrari_F1 = Auto('Ferrari', 'SF25', 1500000)\n",
    "Mercedes_F1 = Auto('Mercedes', 'W16', 1200000)\n",
    "Red_Bull_Racing_F1 = Auto('Red Bull', 'RB19', 1400000)\n",
    "\n",
    "# Imprimir Atributos\n",
    "print(Ferrari_F1.marca)\n",
    "print(Mercedes_F1.precio)\n",
    "print(Red_Bull_Racing_F1.modelo)\n"
   ]
  },
  {
   "cell_type": "code",
   "execution_count": 3,
   "id": "4a929c36",
   "metadata": {},
   "outputs": [
    {
     "name": "stdout",
     "output_type": "stream",
     "text": [
      "El estudiante Cachuan tiene en matemática 18 y en letras 12\n",
      "El estudiante Mercedes tiene en matemática 17 y en letras 13\n",
      "El estudiante Red Bull tiene en matemática 17 y en letras 12\n",
      "Buenos días, mi nombre es Cachuan\n"
     ]
    }
   ],
   "source": [
    "# Clase con un str\n",
    "class Estudiante():\n",
    "    # La función se ejecuta automáticamente cuando llamas a la clase\n",
    "    def __init__(self, nombre, matematica, letras):\n",
    "        self.nombre = nombre\n",
    "        self.matematica = matematica\n",
    "        self.letras = letras\n",
    "    # Texto que devuelve cuando llamas al objeto\n",
    "    def __str__(self):\n",
    "        return f'El estudiante {self.nombre} tiene en matemática {self.matematica} y en letras {self.letras}'\n",
    "    \n",
    "    def presentacion(self):\n",
    "        print(f'Buenos días, mi nombre es {self.nombre}')\n",
    "        \n",
    "Est_Cachuan = Estudiante('Cachuan', 18, 12)\n",
    "Est_Matos = Estudiante('Mercedes', 17, 13)\n",
    "Est_Andy = Estudiante('Red Bull', 17, 12)\n",
    "\n",
    "# Imprimir el __str__\n",
    "print(Est_Cachuan)\n",
    "print(Est_Matos)\n",
    "print(Est_Andy)\n",
    "\n",
    "Est_Cachuan.presentacion()"
   ]
  },
  {
   "cell_type": "markdown",
   "id": "aa13c907",
   "metadata": {},
   "source": [
    "## Atributos"
   ]
  },
  {
   "cell_type": "code",
   "execution_count": 4,
   "id": "6ec2c804",
   "metadata": {},
   "outputs": [
    {
     "name": "stdout",
     "output_type": "stream",
     "text": [
      "Samsung\n",
      "iPhone 15 pro\n"
     ]
    }
   ],
   "source": [
    "# Creando los atributos(características) de un celular\n",
    "\n",
    "class Celular():\n",
    "    # Atributos\n",
    "    def __init__(self, marca, modelo, camara):\n",
    "        self.marca = marca\n",
    "        self.modelo = modelo\n",
    "        self.camara = camara\n",
    "        \n",
    "celular1 = Celular('Samsung', 'S23', '48Mpx')\n",
    "celular2 = Celular('Apple', 'iPhone 15 pro', '96Mpx')\n",
    "\n",
    "print(celular1.marca)\n",
    "print(celular2.modelo)"
   ]
  },
  {
   "cell_type": "markdown",
   "id": "f1c5fc9d",
   "metadata": {},
   "source": [
    "## Herencia"
   ]
  },
  {
   "cell_type": "code",
   "execution_count": 5,
   "id": "f4d2f0ef",
   "metadata": {},
   "outputs": [
    {
     "name": "stdout",
     "output_type": "stream",
     "text": [
      "Mi nombre es Ivan Gomez\n"
     ]
    }
   ],
   "source": [
    "class Persona():\n",
    "    def __init__(self, nombre, apellido):\n",
    "        self.nombre = nombre\n",
    "        self.apellido = apellido\n",
    "        \n",
    "    def presentar(self):\n",
    "        print(f'Mi nombre es {self.nombre} {self.apellido}')\n",
    "        \n",
    "andy = Persona('Ivan', 'Gomez')\n",
    "andy.presentar()"
   ]
  },
  {
   "cell_type": "code",
   "execution_count": 6,
   "id": "dd2fb632",
   "metadata": {},
   "outputs": [],
   "source": [
    "# Herencia simple\n",
    "class Alumno(Persona):\n",
    "  pass"
   ]
  },
  {
   "cell_type": "code",
   "execution_count": 9,
   "id": "ed6495ce",
   "metadata": {},
   "outputs": [
    {
     "name": "stdout",
     "output_type": "stream",
     "text": [
      "Mi nombre es Ivan Gomez\n"
     ]
    }
   ],
   "source": [
    "# Herencia de Personas con especificaciones de quien Hereda\n",
    "class Alumno(Persona):\n",
    "    # La función __init__ hijo anula a la función __init__ padre\n",
    "    def __init__(self, nombre, apellido):\n",
    "        # Mantiene las herencias de la función __init__ del padre\n",
    "        Persona.__init__(self, nombre, apellido)\n",
    "\n",
    "ivan = Alumno('Ivan', 'Gomez')\n",
    "ivan.presentar()"
   ]
  },
  {
   "cell_type": "code",
   "execution_count": 10,
   "id": "b237fa0f",
   "metadata": {},
   "outputs": [
    {
     "name": "stdout",
     "output_type": "stream",
     "text": [
      "Bienvenido Ivan Gomez al semestre 5\n"
     ]
    }
   ],
   "source": [
    "# Hereda los métodos y atributos de la función padre\n",
    "class Alumno(Persona):\n",
    "    def __init__(self,nombre,apellido,semestre):\n",
    "        super().__init__(nombre,apellido)\n",
    "        self.semestre = semestre\n",
    "        \n",
    "    def bienvenida(self):\n",
    "        print(F'Bienvenido {self.nombre} {self.apellido} al semestre {self.semestre}')\n",
    "\n",
    "ivan = Alumno('Ivan', 'Gomez', 5)\n",
    "ivan.bienvenida()"
   ]
  },
  {
   "cell_type": "markdown",
   "id": "64bef750",
   "metadata": {},
   "source": [
    "## Métodos"
   ]
  },
  {
   "cell_type": "code",
   "execution_count": 11,
   "id": "bec8eb36",
   "metadata": {},
   "outputs": [
    {
     "name": "stdout",
     "output_type": "stream",
     "text": [
      "Samsung\n",
      "iPhone 15 pro\n",
      "Llamando desde un celular Apple\n",
      "Cortado desde un celular Samsung\n"
     ]
    }
   ],
   "source": [
    "# Creando los métodos(acciones) de un celular\n",
    "\n",
    "class Celular():\n",
    "    # Atributos\n",
    "    def __init__(self, marca, modelo, camara):\n",
    "        self.marca = marca\n",
    "        self.modelo = modelo\n",
    "        self.camara = camara\n",
    "        \n",
    "    # Métodos    \n",
    "    def llamar(self):\n",
    "        print(f'Llamando desde un celular {self.marca}')\n",
    "        \n",
    "    def cortar(self):\n",
    "        print(f'Cortado desde un celular {self.marca}')\n",
    "        \n",
    "celular1 = Celular('Samsung', 'S23', '48Mpx')\n",
    "celular2 = Celular('Apple', 'iPhone 15 pro', '96Mpx')\n",
    "\n",
    "print(celular1.marca)\n",
    "print(celular2.modelo)\n",
    "celular2.llamar()\n",
    "celular1.cortar()"
   ]
  },
  {
   "cell_type": "markdown",
   "id": "6ca06c0c",
   "metadata": {},
   "source": [
    "## Iterador"
   ]
  },
  {
   "cell_type": "code",
   "execution_count": 12,
   "id": "503d5794",
   "metadata": {},
   "outputs": [
    {
     "name": "stdout",
     "output_type": "stream",
     "text": [
      "manzana\n",
      "platano\n"
     ]
    }
   ],
   "source": [
    "# Iteración de tuplas\n",
    "tupla = ('manzana','platano','piña')\n",
    "\n",
    "tupla = iter(tupla)\n",
    "\n",
    "print(next(tupla))\n",
    "print(next(tupla))"
   ]
  },
  {
   "cell_type": "code",
   "execution_count": 13,
   "id": "2e3b1f15",
   "metadata": {},
   "outputs": [
    {
     "name": "stdout",
     "output_type": "stream",
     "text": [
      "r\n",
      "u\n",
      "s\n",
      "b\n",
      "e\n",
      "l\n"
     ]
    }
   ],
   "source": [
    "# Iteración de string\n",
    "string = 'rusbel'\n",
    "string = iter(string)\n",
    "print(next(string))\n",
    "print(next(string))\n",
    "print(next(string))\n",
    "print(next(string))\n",
    "print(next(string))\n",
    "print(next(string))"
   ]
  },
  {
   "cell_type": "code",
   "execution_count": 15,
   "id": "ced55605",
   "metadata": {},
   "outputs": [
    {
     "name": "stdout",
     "output_type": "stream",
     "text": [
      "1\n",
      "2\n",
      "3\n",
      "4\n",
      "5\n"
     ]
    }
   ],
   "source": [
    "\n",
    "class MiNumero:\n",
    "    def __init__(self, start=0):\n",
    "        self.num = start\n",
    "        \n",
    "    def __iter__(self):\n",
    "        return self\n",
    "    \n",
    "    def __next__(self):\n",
    "        if self.num <= 20:\n",
    "            self.num += 1\n",
    "            return self.num\n",
    "        else:\n",
    "            raise StopIteration\n",
    "        \n",
    "mi_clase = MiNumero()\n",
    "mi_iter = iter(mi_clase)\n",
    "# Para ver los valores iterados\n",
    "print(next(mi_iter))\n",
    "print(next(mi_iter))\n",
    "print(next(mi_iter))\n",
    "print(next(mi_iter))\n",
    "print(next(mi_iter))"
   ]
  },
  {
   "cell_type": "code",
   "execution_count": 16,
   "id": "6a6f031f",
   "metadata": {},
   "outputs": [
    {
     "name": "stdout",
     "output_type": "stream",
     "text": [
      "6\n",
      "7\n",
      "8\n",
      "9\n",
      "10\n",
      "11\n",
      "12\n",
      "13\n",
      "14\n",
      "15\n",
      "16\n",
      "17\n",
      "18\n",
      "19\n",
      "20\n",
      "21\n"
     ]
    }
   ],
   "source": [
    "for i in mi_iter:\n",
    "    print(i)"
   ]
  },
  {
   "cell_type": "markdown",
   "id": "b0662372",
   "metadata": {},
   "source": [
    "## Herencia"
   ]
  },
  {
   "cell_type": "code",
   "execution_count": null,
   "id": "5b414d7a",
   "metadata": {},
   "outputs": [],
   "source": [
    "class Persona:\n",
    "    def __init__(self, nombre, edad, nacionalidad):\n",
    "        self.nombre = nombre\n",
    "        self.edad = edad\n",
    "        self.nacionalidad = nacionalidad\n",
    "        \n",
    "    def hablar(self):\n",
    "        print('Hola, estoy hablando')\n",
    "        \n",
    "class Empleado(Persona):\n",
    "    def __init__(self, nombre, edad, nacionalidad, trabajo, salario):\n",
    "        super().__init__(nombre, edad, nacionalidad)\n",
    "        self.trabajo = trabajo\n",
    "        self.salario = salario\n",
    "        \n",
    "roberto = Empleado('Roberto', 24, 'peruano', 'minerito', 2000000)\n",
    "\n",
    "roberto.hablar()"
   ]
  },
  {
   "cell_type": "markdown",
   "id": "c6b76849",
   "metadata": {},
   "source": [
    "## Polimorfismo"
   ]
  },
  {
   "cell_type": "code",
   "execution_count": 17,
   "id": "b38168c9",
   "metadata": {},
   "outputs": [
    {
     "name": "stdout",
     "output_type": "stream",
     "text": [
      "Manejar\n",
      "Navegar\n",
      "Volar\n"
     ]
    }
   ],
   "source": [
    "class Car:\n",
    "    def __init__(self,marca,modelo):\n",
    "        self.marca = marca\n",
    "        self.modelo = modelo\n",
    "    \n",
    "    def movimiento(self):\n",
    "        print(\"Manejar\")\n",
    "        \n",
    "class Barco:\n",
    "    def __init__(self,marca,modelo):\n",
    "        self.marca = marca\n",
    "        self.modelo = modelo\n",
    "        \n",
    "    def movimiento(self):\n",
    "        print('Navegar')\n",
    "        \n",
    "class Avion:\n",
    "    def __init__(self,marca,modelo):\n",
    "        self.marca = marca\n",
    "        self.modelo = modelo\n",
    "        \n",
    "    def movimiento(self):\n",
    "        print(\"Volar\")\n",
    "\n",
    "car1 = Car('Ferrari', 'F8 Tributo')\n",
    "barco1 = Barco(\"Ibiza\", \"Touring 20\")\n",
    "avion1 = Avion(\"Latam\", \"747\")\n",
    "\n",
    "for _ in (car1,barco1,avion1):\n",
    "    _.movimiento()"
   ]
  },
  {
   "cell_type": "code",
   "execution_count": 18,
   "id": "59a9cf60",
   "metadata": {},
   "outputs": [
    {
     "name": "stdout",
     "output_type": "stream",
     "text": [
      "Ferrari\n",
      "F8 Tributo\n",
      "Manejar\n",
      "Ibiza\n",
      "Touring 20\n",
      "Navegar\n",
      "Latam\n",
      "747\n",
      "Volar\n"
     ]
    }
   ],
   "source": [
    "class Transporte():\n",
    "    def __init__(self,marca,modelo):\n",
    "        self.marca = marca\n",
    "        self.modelo = modelo\n",
    "        \n",
    "    def mover(self):\n",
    "        print(\"Manejar\")\n",
    "        \n",
    "class Carro(Transporte):\n",
    "    pass\n",
    "\n",
    "class Barco(Transporte):\n",
    "    def mover(self):\n",
    "        print(\"Navegar\")\n",
    "        \n",
    "class Avion(Transporte):\n",
    "    def mover(self):\n",
    "        print(\"Volar\")\n",
    "        \n",
    "car1 = Carro('Ferrari', 'F8 Tributo')\n",
    "barco1 = Barco(\"Ibiza\", \"Touring 20\")\n",
    "avion1 = Avion(\"Latam\", \"747\")\n",
    "\n",
    "for _ in (car1,barco1,avion1):\n",
    "    print(_.marca)\n",
    "    print(_.modelo)\n",
    "    _.mover()"
   ]
  },
  {
   "cell_type": "code",
   "execution_count": 28,
   "id": "2769c884",
   "metadata": {},
   "outputs": [
    {
     "name": "stdout",
     "output_type": "stream",
     "text": [
      "Miau\n",
      "Guau\n",
      "Miau\n",
      "Guau\n"
     ]
    }
   ],
   "source": [
    "class Gato:\n",
    "    def sonido(self):\n",
    "        return 'Miau'\n",
    "\n",
    "class Perro:\n",
    "    def sonido(self):\n",
    "        return 'Guau'\n",
    "    \n",
    "def hacer_sonido(animal):\n",
    "    print(animal.sonido())\n",
    "    \n",
    "gato = Gato()\n",
    "perro = Perro()\n",
    "\n",
    "hacer_sonido(gato)\n",
    "hacer_sonido(perro)\n",
    "\n",
    "print(gato.sonido())\n",
    "print(perro.sonido())"
   ]
  },
  {
   "cell_type": "markdown",
   "id": "ffa073af",
   "metadata": {},
   "source": [
    "## Herencia Múltiple"
   ]
  },
  {
   "cell_type": "code",
   "execution_count": 19,
   "id": "e174e02a",
   "metadata": {},
   "outputs": [
    {
     "name": "stdout",
     "output_type": "stream",
     "text": [
      "Hola soy: Roberto, Mi habilidad es: minar, y trabajo en Cominera\n",
      "True\n",
      "False\n",
      "True\n"
     ]
    }
   ],
   "source": [
    "class Persona:\n",
    "    def __init__(self, nombre, edad, nacionalidad):\n",
    "        self.nombre = nombre\n",
    "        self.edad = edad\n",
    "        self.nacionalidad = nacionalidad\n",
    "        \n",
    "    def hablar(self):\n",
    "        print('Hola, estoy hablando')\n",
    "    \n",
    "class Artista:\n",
    "    def __init__(self, habilidad):\n",
    "        self.habilidad = habilidad\n",
    "    \n",
    "    def mostrar_habilidad(self):\n",
    "        return f'Mi habilidad es: {self.habilidad}'\n",
    "        \n",
    "class EmpleadoArtista(Persona,Artista):\n",
    "    def __init__(self, nombre, edad, nacionalidad, habilidad, empresa, salario):\n",
    "        Persona.__init__(self, nombre, edad, nacionalidad)\n",
    "        Artista.__init__(self, habilidad)\n",
    "        self.salario = salario\n",
    "        self.empresa = empresa\n",
    "        \n",
    "    def presentarse(self):\n",
    "        print(f'Hola soy: {self.nombre}, {self.mostrar_habilidad()}, y trabajo en {self.empresa}')\n",
    "    \n",
    "    \n",
    "roberto = EmpleadoArtista('Roberto', 24, 'peruano', 'minar', 'Cominera', 20000)\n",
    "\n",
    "roberto.presentarse()\n",
    "\n",
    "herencia = issubclass(EmpleadoArtista, Persona)\n",
    "print(herencia)\n",
    "herencia = issubclass(Artista, EmpleadoArtista)\n",
    "print(herencia)\n",
    "instancia = isinstance(roberto, Artista)\n",
    "print(instancia)"
   ]
  },
  {
   "cell_type": "markdown",
   "id": "1b2d75f6",
   "metadata": {},
   "source": [
    "## Alcance"
   ]
  },
  {
   "cell_type": "code",
   "execution_count": 20,
   "id": "edb950d7",
   "metadata": {},
   "outputs": [
    {
     "name": "stdout",
     "output_type": "stream",
     "text": [
      "Hola mundo\n"
     ]
    }
   ],
   "source": [
    "# Función simple - Alcance local\n",
    "def hola():\n",
    "    x = 'Hola mundo'\n",
    "    print(x)\n",
    "\n",
    "hola()"
   ]
  },
  {
   "cell_type": "code",
   "execution_count": 21,
   "id": "56ee499d",
   "metadata": {},
   "outputs": [
    {
     "name": "stdout",
     "output_type": "stream",
     "text": [
      "Hola, que tal?\n"
     ]
    }
   ],
   "source": [
    "# Función dentro de otra función\n",
    "def saludo():\n",
    "    x = 'Hola, que tal?'\n",
    "    def funcion_interna():\n",
    "        print(x)\n",
    "    funcion_interna()\n",
    "    \n",
    "saludo()"
   ]
  },
  {
   "cell_type": "code",
   "execution_count": 23,
   "id": "98638b56",
   "metadata": {},
   "outputs": [
    {
     "name": "stdout",
     "output_type": "stream",
     "text": [
      "Hola como estas?\n"
     ]
    }
   ],
   "source": [
    "# Alcance global\n",
    "x = 'Hola como estas?'\n",
    "\n",
    "def saludo():\n",
    "    # Variable de nombramiento\n",
    "    x = 'Hola mundo'\n",
    "\n",
    "saludo()\n",
    "\n",
    "print(x)"
   ]
  },
  {
   "cell_type": "code",
   "execution_count": 25,
   "id": "9dfec574",
   "metadata": {},
   "outputs": [
    {
     "name": "stdout",
     "output_type": "stream",
     "text": [
      "Hola mundo\n"
     ]
    }
   ],
   "source": [
    "# Cambiar de alcance local a alcance glohal\n",
    "def func():\n",
    "    global x\n",
    "    x = 'Hola mundo'\n",
    "    \n",
    "func()\n",
    "\n",
    "print(x)"
   ]
  },
  {
   "cell_type": "code",
   "execution_count": 26,
   "id": "b8706053",
   "metadata": {},
   "outputs": [
    {
     "name": "stdout",
     "output_type": "stream",
     "text": [
      "Hola mundo\n",
      "('David', 10)\n",
      "David\n"
     ]
    }
   ],
   "source": [
    "x = \"Hola mundo\"  # Variable global\n",
    "\n",
    "def func1():\n",
    "    global x\n",
    "    x = \"Ivan\"  # Modifica la variable global\n",
    "    y = 4       # Variable local de func1\n",
    "    def func2():\n",
    "        nonlocal y\n",
    "        y = 10  # Modifica la variable de func1\n",
    "        global x\n",
    "        x = \"David\"  # Modifica la variable global\n",
    "    func2()\n",
    "    return x, y\n",
    "\n",
    "print(x)        # Salida: Hola mundo (valor inicial)\n",
    "print(func1())  # Salida: ('David', 10)\n",
    "print(x)        # Salida: David (modificado por func2)"
   ]
  },
  {
   "cell_type": "markdown",
   "id": "7f6e887a",
   "metadata": {},
   "source": [
    "## MRO"
   ]
  },
  {
   "cell_type": "code",
   "execution_count": 27,
   "id": "27d73d69",
   "metadata": {},
   "outputs": [
    {
     "name": "stdout",
     "output_type": "stream",
     "text": [
      "Hola, estoy hablando desde F\n",
      "Hola, estoy hablando desde D\n",
      "Hola, estoy hablando desde A\n",
      "[<class '__main__.F'>, <class '__main__.E'>, <class '__main__.C'>, <class '__main__.B'>, <class '__main__.D'>, <class '__main__.A'>, <class '__main__.G'>, <class '__main__.H'>, <class 'object'>]\n"
     ]
    }
   ],
   "source": [
    "class A:\n",
    "    def hablar(self):\n",
    "        print('Hola, estoy hablando desde A')\n",
    "    \n",
    "class B(A):\n",
    "    def hablar(self):\n",
    "        print('Hola, estoy hablando desde B')\n",
    "    \n",
    "class C(B):\n",
    "    def hablar(self):\n",
    "        print('Hola, estoy hablando desde C')    \n",
    "    \n",
    "class D(A):\n",
    "    def hablar(self):\n",
    "        print('Hola, estoy hablando desde D')\n",
    "        \n",
    "class E(C, D):\n",
    "    def hablar(self):\n",
    "        print('Hola, estoy hablando desde E')\n",
    "        \n",
    "class H:\n",
    "    def hablar(self):\n",
    "        print('Hola, estoy hablando desde H')\n",
    "        \n",
    "class G(H):\n",
    "    def hablar(self):\n",
    "        print('Hola, estoy hablando desde G')\n",
    "        \n",
    "class F(E, G):\n",
    "    def hablar(self):\n",
    "        print('Hola, estoy hablando desde F')\n",
    "\n",
    "objeto = F()\n",
    "\n",
    "objeto.hablar()\n",
    "D.hablar(objeto)\n",
    "A.hablar(objeto)\n",
    "print(F.mro())"
   ]
  },
  {
   "cell_type": "markdown",
   "id": "fac9dabd",
   "metadata": {},
   "source": [
    "## Encapsulamiento"
   ]
  },
  {
   "cell_type": "code",
   "execution_count": 29,
   "id": "77c54ca6",
   "metadata": {},
   "outputs": [
    {
     "name": "stdout",
     "output_type": "stream",
     "text": [
      "Wa\n",
      "Hola, estoy hablando\n",
      "None\n"
     ]
    }
   ],
   "source": [
    "class MiClase:\n",
    "    def __init__(self):\n",
    "        # Atributo muy muy privado(privado)\n",
    "        self.__atributo_muymuyprivado = 'xD'\n",
    "        \n",
    "        # Atributo privado(protegido)\n",
    "        self._atributo_privado = 'Wa'\n",
    "    \n",
    "    # Método privado(protegido)  \n",
    "    def _hablar(self):\n",
    "        print('Hola, estoy hablando')\n",
    "        pass\n",
    "        \n",
    "    # Método muy muy privado(privado)\n",
    "    def __habla(self):\n",
    "        print('No molestes oe >:v')\n",
    "\n",
    "Juan = MiClase()\n",
    "       \n",
    "print(Juan._atributo_privado) \n",
    "print(Juan._hablar())"
   ]
  },
  {
   "cell_type": "code",
   "execution_count": 30,
   "id": "d83d5470",
   "metadata": {},
   "outputs": [
    {
     "name": "stdout",
     "output_type": "stream",
     "text": [
      "xD\n",
      "No molestes oe >:v\n"
     ]
    }
   ],
   "source": [
    "# Votan error       \n",
    "\n",
    "'''\n",
    "print(Juan.__atributo_muymuyprivado)\n",
    "print(Juan.__habla())\n",
    "'''\n",
    "# Accediendo a los atributos y métodos muy muy privados(privados)\n",
    "print(Juan._MiClase__atributo_muymuyprivado)\n",
    "Juan._MiClase__habla()"
   ]
  },
  {
   "cell_type": "markdown",
   "id": "b88bb04e",
   "metadata": {},
   "source": [
    "## Setter y Getters"
   ]
  },
  {
   "cell_type": "code",
   "execution_count": 31,
   "id": "6367ec55",
   "metadata": {},
   "outputs": [
    {
     "name": "stdout",
     "output_type": "stream",
     "text": [
      "Ivan\n",
      "Fiorella\n"
     ]
    }
   ],
   "source": [
    "class Persona:\n",
    "    def __init__(self, nombre, edad):\n",
    "        self.__nombre = nombre\n",
    "        self._edad = edad\n",
    "    \n",
    "    # El getter obtiene el valor    \n",
    "    def el_nombre(self):\n",
    "        return self.__nombre\n",
    "    \n",
    "    # Los setter modifican el valor\n",
    "    def cambiar_nombre(self, new_nombre):\n",
    "        self.__nombre = new_nombre\n",
    "        \n",
    "Ivancito = Persona('Ivan', 24)\n",
    "\n",
    "nombre = Ivancito.el_nombre()\n",
    "print(nombre)\n",
    "\n",
    "Ivancito.cambiar_nombre('Fiorella')\n",
    "\n",
    "nombre = Ivancito.el_nombre()\n",
    "print(nombre)\n"
   ]
  },
  {
   "cell_type": "markdown",
   "id": "2b080093",
   "metadata": {},
   "source": [
    "## Decoradores"
   ]
  },
  {
   "cell_type": "code",
   "execution_count": 35,
   "id": "f619cc55",
   "metadata": {},
   "outputs": [
    {
     "data": {
      "text/plain": [
       "<function __main__.decorador.<locals>.funcion_modificado()>"
      ]
     },
     "execution_count": 35,
     "metadata": {},
     "output_type": "execute_result"
    }
   ],
   "source": [
    "def decorador(funcion):\n",
    "    def funcion_modificado():\n",
    "        print('Antes de llamar a la función')\n",
    "        funcion()\n",
    "        print('Despues de llamar a la funcion')\n",
    "    return funcion_modificado\n",
    "\n",
    "def saludo():\n",
    "    print('Hola Ivan como andas')\n",
    "    \n",
    "saludo_modificado = decorador(saludo)\n",
    "saludo_modificado"
   ]
  },
  {
   "cell_type": "code",
   "execution_count": 36,
   "id": "15733294",
   "metadata": {},
   "outputs": [
    {
     "name": "stdout",
     "output_type": "stream",
     "text": [
      "Antes de llamar a la función\n",
      "Hola Ivan como estas\n",
      "Despues de llamar a la funcion\n"
     ]
    }
   ],
   "source": [
    "@decorador\n",
    "def saludo():\n",
    "    print('Hola Ivan como estas')\n",
    "    \n",
    "saludo()"
   ]
  },
  {
   "cell_type": "markdown",
   "id": "7c7f57d2",
   "metadata": {},
   "source": [
    "## Property"
   ]
  },
  {
   "cell_type": "code",
   "execution_count": null,
   "id": "875001db",
   "metadata": {},
   "outputs": [
    {
     "name": "stdout",
     "output_type": "stream",
     "text": [
      "Ivancito\n",
      "David\n",
      "termino la ejecución\n"
     ]
    }
   ],
   "source": [
    "class Persona:\n",
    "    def __init__(self, nombre, edad):\n",
    "        self.__nombre = nombre\n",
    "        self._edad = edad\n",
    "     \n",
    "    # Aceede a elementos encapsulados   \n",
    "    @property\n",
    "    def nombre(self):\n",
    "        return self.__nombre\n",
    "    \n",
    "    # Modifica elementos encapsulados\n",
    "    @nombre.setter\n",
    "    def nombre(self, new_nombre):\n",
    "        self.__nombre = new_nombre\n",
    "    \n",
    "    # Elimina elementos encapsulados    \n",
    "    @nombre.deleter\n",
    "    def nombre(self):\n",
    "        del self.__nombre\n",
    "\n",
    "ivan = Persona('Ivancito', 19)\n",
    "\n",
    "# Accedí al property\n",
    "nombre = ivan.nombre\n",
    "print(nombre)\n",
    "\n",
    "# Modifique el método con un setter \n",
    "ivan.nombre = 'David'\n",
    "\n",
    "nombre = ivan.nombre\n",
    "print(nombre)       \n",
    " \n",
    "# Elimine el método\n",
    "del ivan.nombre\n",
    "\n",
    "print('termino la ejecución')"
   ]
  },
  {
   "cell_type": "markdown",
   "id": "17561f55",
   "metadata": {},
   "source": [
    "## Abstracción"
   ]
  },
  {
   "cell_type": "code",
   "execution_count": 39,
   "id": "99b9d7df",
   "metadata": {},
   "outputs": [
    {
     "name": "stdout",
     "output_type": "stream",
     "text": [
      "El auto está encendido\n",
      "Conduciendo el auto\n"
     ]
    }
   ],
   "source": [
    "class Auto():\n",
    "    def __init__(self):\n",
    "        self._estado = 'apagado'\n",
    "        \n",
    "    def encender(self):\n",
    "        self._estado = 'encendido'\n",
    "        print('El auto está encendido')\n",
    "        \n",
    "    def conducir(self):\n",
    "        if self._estado == 'apagado':\n",
    "            self.encender()\n",
    "        print('Conduciendo el auto')\n",
    "        \n",
    "mi_auto = Auto()\n",
    "mi_auto.conducir()"
   ]
  },
  {
   "cell_type": "markdown",
   "id": "34e5fa51",
   "metadata": {},
   "source": [
    "## Clases abstractas"
   ]
  },
  {
   "cell_type": "code",
   "execution_count": 42,
   "id": "d01c6996",
   "metadata": {},
   "outputs": [
    {
     "name": "stdout",
     "output_type": "stream",
     "text": [
      "Hola, me llamo: Ivan y tengo 19 años\n",
      "Estoy estudiando: Ing. Sistemas\n",
      "Hola, me llamo: Alex y tengo 26 años\n",
      "Actualmente estoy trabajando en: Ing. Eléctrica\n"
     ]
    }
   ],
   "source": [
    "from abc import ABC, abstractmethod\n",
    "\n",
    "class Persona(ABC):\n",
    "    def __init__(self, nombre, edad, sexo, actividad):\n",
    "        self.nombre = nombre\n",
    "        self.edad = edad\n",
    "        self.sexo = sexo\n",
    "        self.actividad = actividad\n",
    "        \n",
    "    @abstractmethod\n",
    "    def hacer_actividad(self):\n",
    "        pass\n",
    "    \n",
    "    def presentarse(self):\n",
    "        print(f'Hola, me llamo: {self.nombre} y tengo {self.edad} años')\n",
    "        \n",
    "class Estudiante(Persona):\n",
    "    def __init__(self, nombre, edad, sexo, actividad):\n",
    "        super().__init__(nombre, edad, sexo, actividad)\n",
    "        \n",
    "    def hacer_actividad(self):\n",
    "        print(f'Estoy estudiando: {self.actividad}')\n",
    "    \n",
    "class Trabajador(Persona):\n",
    "    def __init__(self, nombre, edad, sexo, actividad):\n",
    "        super().__init__(nombre, edad, sexo, actividad)\n",
    "        \n",
    "    def hacer_actividad(self):\n",
    "        print(f'Actualmente estoy trabajando en: {self.actividad}')\n",
    "\n",
    "ivan = Estudiante('Ivan', 19, 'M', 'Ing. Sistemas')\n",
    "alex = Trabajador('Alex', 26, 'M', 'Ing. Eléctrica')\n",
    "\n",
    "ivan.presentarse()\n",
    "ivan.hacer_actividad()\n",
    "\n",
    "alex.presentarse()\n",
    "alex.hacer_actividad()"
   ]
  },
  {
   "cell_type": "markdown",
   "id": "f3b9e044",
   "metadata": {},
   "source": [
    "## Método Dunder"
   ]
  },
  {
   "cell_type": "code",
   "execution_count": 1,
   "id": "30d78b1f",
   "metadata": {},
   "outputs": [
    {
     "name": "stdout",
     "output_type": "stream",
     "text": [
      "Persona(nombre = Ivancito, edad = 19)\n"
     ]
    }
   ],
   "source": [
    "class Persona:\n",
    "    def __init__(self, nombre, edad):\n",
    "        self.nombre = nombre\n",
    "        self.edad = edad\n",
    "        \n",
    "    def __str__(self):\n",
    "        return f'Persona(nombre = {self.nombre}, edad = {self.edad})'\n",
    "    \n",
    "ivan = Persona('Ivancito', 19)\n",
    "\n",
    "print(ivan)"
   ]
  },
  {
   "cell_type": "markdown",
   "id": "b4545ebd",
   "metadata": {},
   "source": [
    "## SRP - Single Responsability Principle"
   ]
  },
  {
   "cell_type": "code",
   "execution_count": 2,
   "id": "16355b9d",
   "metadata": {},
   "outputs": [
    {
     "name": "stdout",
     "output_type": "stream",
     "text": [
      "0\n",
      "Has movido el auto exitosamente\n",
      "10\n",
      "Has movido el auto exitosamente\n",
      "30\n",
      "Has movido el auto exitosamente\n",
      "90\n",
      "Has movido el auto exitosamente\n",
      "190\n",
      "No hay suficiente combustible\n",
      "190\n"
     ]
    }
   ],
   "source": [
    "# Cada clase debe tener una unica función\n",
    "\n",
    "class Combustible:\n",
    "    def __init__(self):\n",
    "        self.combustible = 100\n",
    "                \n",
    "    def agregar_combustible(self, cantidad):\n",
    "        self.combustible += cantidad\n",
    "        \n",
    "    def obtener_combustible(self):\n",
    "        return self.combustible\n",
    "    \n",
    "    def usar_combustible(self, cantidad):\n",
    "        self.combustible -= cantidad\n",
    "\n",
    "class Auto:\n",
    "    def __init__(self, tanque):\n",
    "        self.posicion = 0\n",
    "        self.tanque = tanque\n",
    "        \n",
    "    def mover(self, distancia):\n",
    "        if self.tanque.obtener_combustible() >= distancia / 2:\n",
    "            self.posicion += distancia\n",
    "            self.tanque.usar_combustible(distancia / 2)\n",
    "            print('Has movido el auto exitosamente')\n",
    "        else:\n",
    "            print('No hay suficiente combustible')\n",
    "    \n",
    "    def obtener_posicion(self):\n",
    "        return self.posicion\n",
    "    \n",
    "tanque = Combustible()\n",
    "autito = Auto(tanque)\n",
    "\n",
    "print(autito.obtener_posicion())\n",
    "autito.mover(10)\n",
    "print(autito.obtener_posicion())\n",
    "autito.mover(20)\n",
    "print(autito.obtener_posicion())\n",
    "autito.mover(60)\n",
    "print(autito.obtener_posicion())\n",
    "autito.mover(100)\n",
    "print(autito.obtener_posicion())\n",
    "autito.mover(100)\n",
    "print(autito.obtener_posicion())\n"
   ]
  },
  {
   "cell_type": "markdown",
   "id": "d19a2139",
   "metadata": {},
   "source": [
    "## OCP = Open / Closed Principle"
   ]
  },
  {
   "cell_type": "code",
   "execution_count": 9,
   "id": "a058a2d7",
   "metadata": {},
   "outputs": [
    {
     "ename": "TypeError",
     "evalue": "Notificador.__init__() missing 2 required positional arguments: 'usuario' and 'mensaje'",
     "output_type": "error",
     "traceback": [
      "\u001b[31m---------------------------------------------------------------------------\u001b[39m",
      "\u001b[31mTypeError\u001b[39m                                 Traceback (most recent call last)",
      "\u001b[36mCell\u001b[39m\u001b[36m \u001b[39m\u001b[32mIn[9]\u001b[39m\u001b[32m, line 21\u001b[39m\n\u001b[32m     17\u001b[39m     \u001b[38;5;28;01mdef\u001b[39;00m\u001b[38;5;250m \u001b[39m\u001b[34mNotificar\u001b[39m(\u001b[38;5;28mself\u001b[39m):\n\u001b[32m     18\u001b[39m         \u001b[38;5;28mprint\u001b[39m(\u001b[33mf\u001b[39m\u001b[33m'\u001b[39m\u001b[33mENciando SMS a \u001b[39m\u001b[38;5;132;01m{\u001b[39;00m\u001b[38;5;28mself\u001b[39m.usuario.sms\u001b[38;5;132;01m}\u001b[39;00m\u001b[33m'\u001b[39m)\n\u001b[32m---> \u001b[39m\u001b[32m21\u001b[39m noti = \u001b[43mNotificadorSMS\u001b[49m\u001b[43m(\u001b[49m\u001b[43m)\u001b[49m\n\u001b[32m     22\u001b[39m noti.Notificar()\n",
      "\u001b[31mTypeError\u001b[39m: Notificador.__init__() missing 2 required positional arguments: 'usuario' and 'mensaje'"
     ]
    }
   ],
   "source": [
    "# Ayuda a la escalabilidad, aumenta nuevas funciones sin modificar \n",
    "\n",
    "class Notificador:\n",
    "    def __init__(self, usuario, mensaje):\n",
    "        self.usuario = usuario\n",
    "        self.mensaje = mensaje\n",
    "        \n",
    "    def notificar(self):\n",
    "        raise NotImplementedError\n",
    "    \n",
    "class NotificadorEmail(Notificador):\n",
    "    def Notificar(self):\n",
    "        print(f'Enciando mensaje por Email a {self.usuario.email}')\n",
    "        \n",
    "        \n",
    "class NotificadorSMS(Notificador):\n",
    "    def Notificar(self):\n",
    "        print(f'ENciando SMS a {self.usuario.sms}')\n",
    "\n",
    "\n",
    "noti = NotificadorSMS()\n",
    "noti.Notificar()"
   ]
  },
  {
   "cell_type": "markdown",
   "id": "e6ccf34f",
   "metadata": {},
   "source": [
    "## ISP - Interface Segregation Principle"
   ]
  },
  {
   "cell_type": "code",
   "execution_count": 10,
   "id": "c3b2e7d7",
   "metadata": {},
   "outputs": [
    {
     "name": "stdout",
     "output_type": "stream",
     "text": [
      "El robot está trabajando\n",
      "El humano está trabajando\n",
      "El humano está comiendo\n"
     ]
    }
   ],
   "source": [
    "# Dividir la clase abstracta en varias clases abstractas\n",
    "\n",
    "from abc import ABC, abstractmethod\n",
    "\n",
    "class Trabajador(ABC):\n",
    "    @abstractmethod\n",
    "    def trabajar(self):\n",
    "        pass\n",
    "    \n",
    "class Comedor(ABC):\n",
    "    @abstractmethod\n",
    "    def comer(self):\n",
    "        pass\n",
    "    \n",
    "class Dormilon(ABC):\n",
    "    @abstractmethod\n",
    "    def dormir(self):\n",
    "        pass\n",
    "    \n",
    "class Humano(Trabajador, Dormilon, Comedor):\n",
    "    def comer(self):\n",
    "        print('El humano está comiendo')\n",
    "\n",
    "    def trabajar(self):\n",
    "        print('El humano está trabajando')\n",
    "        \n",
    "    def dormir(self):\n",
    "        print('El humano está durmiendo')\n",
    "        \n",
    "class Robot(Trabajador):\n",
    "    \n",
    "    def trabajar(self):\n",
    "        print('El robot está trabajando')\n",
    "        \n",
    "robot = Robot()\n",
    "humano = Humano()\n",
    "\n",
    "robot.trabajar()\n",
    "humano.trabajar()\n",
    "humano.comer()"
   ]
  }
 ],
 "metadata": {
  "kernelspec": {
   "display_name": "Python 3",
   "language": "python",
   "name": "python3"
  },
  "language_info": {
   "codemirror_mode": {
    "name": "ipython",
    "version": 3
   },
   "file_extension": ".py",
   "mimetype": "text/x-python",
   "name": "python",
   "nbconvert_exporter": "python",
   "pygments_lexer": "ipython3",
   "version": "3.13.7"
  }
 },
 "nbformat": 4,
 "nbformat_minor": 5
}

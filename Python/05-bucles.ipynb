{
 "cells": [
  {
   "cell_type": "code",
   "execution_count": 12,
   "id": "9f119dfb",
   "metadata": {},
   "outputs": [
    {
     "name": "stdout",
     "output_type": "stream",
     "text": [
      "La suma es: 60\n"
     ]
    }
   ],
   "source": [
    "total = 0       # Aquí se guardara las sumas\n",
    "num_sumas = 5\n",
    "contador = 0\n",
    "\n",
    "while contador < num_sumas:\n",
    "    num = int(input('Dame un número para sumar: '))\n",
    "    total = total + num\n",
    "    contador += 1\n",
    "    \n",
    "print('La suma es:', total)"
   ]
  },
  {
   "cell_type": "code",
   "execution_count": 14,
   "id": "503607a6",
   "metadata": {},
   "outputs": [
    {
     "name": "stdout",
     "output_type": "stream",
     "text": [
      "Contraseña correcta\n"
     ]
    }
   ],
   "source": [
    "password = ''\n",
    "key = '123'\n",
    "\n",
    "while password != key:\n",
    "   password = input('Escribe tu contraseña: ')\n",
    "   \n",
    "print('Contraseña correcta')"
   ]
  },
  {
   "cell_type": "code",
   "execution_count": 15,
   "id": "c78ad524",
   "metadata": {},
   "outputs": [
    {
     "name": "stdout",
     "output_type": "stream",
     "text": [
      "El color es: rojo\n",
      "El color es: amarillo\n",
      "El color es: verde\n",
      "El color es: azul\n",
      "El color es: morado\n"
     ]
    }
   ],
   "source": [
    "colores = ['rojo', 'amarillo', 'verde', 'azul', 'morado']\n",
    "for color in colores:\n",
    "    print('El color es:', color)"
   ]
  },
  {
   "cell_type": "code",
   "execution_count": 16,
   "id": "673caec5",
   "metadata": {},
   "outputs": [
    {
     "name": "stdout",
     "output_type": "stream",
     "text": [
      "El color es: rojo\n",
      "El color es: amarillo\n",
      "El color es: verde\n",
      "El color es: azul\n",
      "El color es: morado\n"
     ]
    }
   ],
   "source": [
    "indice = 0\n",
    "while indice < len(colores):\n",
    "    print('El color es:', colores[indice])\n",
    "    indice += 1"
   ]
  },
  {
   "cell_type": "code",
   "execution_count": 17,
   "id": "abe030d6",
   "metadata": {},
   "outputs": [
    {
     "name": "stdout",
     "output_type": "stream",
     "text": [
      "Interación 5\n",
      "Interación 6\n",
      "Interación 7\n",
      "Interación 8\n",
      "Interación 9\n",
      "Interación 10\n",
      "Interación 11\n",
      "Interación 12\n",
      "Interación 13\n",
      "Interación 14\n",
      "Interación 15\n"
     ]
    }
   ],
   "source": [
    "for num in range(5, 16):\n",
    "    print('Interación', num)"
   ]
  },
  {
   "cell_type": "markdown",
   "id": "680ef197",
   "metadata": {},
   "source": [
    "## For"
   ]
  },
  {
   "cell_type": "code",
   "execution_count": 18,
   "id": "7ddc3844",
   "metadata": {},
   "outputs": [
    {
     "name": "stdout",
     "output_type": "stream",
     "text": [
      "1 menor de edad\n",
      "5 menor de edad\n",
      "9 menor de edad\n",
      "13 menor de edad\n",
      "17 menor de edad\n",
      "21 mayor de edad\n",
      "25 mayor de edad\n",
      "29 mayor de edad\n",
      "33 mayor de edad\n",
      "37 mayor de edad\n",
      "41 mayor de edad\n",
      "45 mayor de edad\n",
      "49 mayor de edad\n",
      "53 mayor de edad\n",
      "57 mayor de edad\n",
      "61 mayor de edad\n",
      "65 mayor de edad\n",
      "69 mayor de edad\n",
      "73 mayor de edad\n",
      "77 mayor de edad\n",
      "81 mayor de edad\n",
      "85 mayor de edad\n",
      "89 mayor de edad\n",
      "93 mayor de edad\n",
      "97 mayor de edad\n"
     ]
    }
   ],
   "source": [
    "for edad in range(1,100,4):\n",
    "    if edad<18:\n",
    "        print(edad, \"menor de edad\")\n",
    "    else:\n",
    "        print(edad, 'mayor de edad')"
   ]
  },
  {
   "cell_type": "code",
   "execution_count": 1,
   "id": "6f3e4fd1",
   "metadata": {},
   "outputs": [
    {
     "name": "stdout",
     "output_type": "stream",
     "text": [
      "Hola mundo\n",
      "Hola mundo\n",
      "Hola mundo\n",
      "Hola mundo\n",
      "Hola mundo\n",
      "Hola mundo\n",
      "Hola mundo\n",
      "Hola mundo\n",
      "Hola mundo\n",
      "Hola mundo\n"
     ]
    }
   ],
   "source": [
    "for i in range(0, 10):\n",
    "    print (\"Hola mundo\")"
   ]
  },
  {
   "cell_type": "code",
   "execution_count": 2,
   "id": "c2a477e2",
   "metadata": {},
   "outputs": [
    {
     "name": "stdout",
     "output_type": "stream",
     "text": [
      "Hola mundo: 0\n",
      "Hola mundo: 1\n",
      "Hola mundo: 2\n",
      "Hola mundo: 3\n",
      "Hola mundo: 4\n",
      "Hola mundo: 5\n",
      "Hola mundo: 6\n",
      "Hola mundo: 7\n",
      "Hola mundo: 8\n",
      "Hola mundo: 9\n"
     ]
    }
   ],
   "source": [
    "for i in range(0, 10):\n",
    "    print(\"Hola mundo: \" + str(i))"
   ]
  },
  {
   "cell_type": "code",
   "execution_count": 3,
   "id": "442a7a04",
   "metadata": {},
   "outputs": [
    {
     "name": "stdout",
     "output_type": "stream",
     "text": [
      "uno\n",
      "dos\n",
      "tres\n",
      "cuatro\n",
      "cinco\n"
     ]
    }
   ],
   "source": [
    "list_1 = [\"uno\", \"dos\", \"tres\", \"cuatro\", \"cinco\"]\n",
    "for element in list_1:\n",
    "    print(element)"
   ]
  },
  {
   "cell_type": "code",
   "execution_count": 4,
   "id": "dd38d69f",
   "metadata": {},
   "outputs": [
    {
     "name": "stdout",
     "output_type": "stream",
     "text": [
      "Elemento en índice 0: uno\n",
      "Elemento en índice 1: dos\n",
      "Elemento en índice 2: tres\n",
      "Elemento en índice 3: cuatro\n",
      "Elemento en índice 4: cinco\n"
     ]
    }
   ],
   "source": [
    "list_1 = [\"uno\", 'dos', 'tres', 'cuatro', 'cinco']\n",
    "for index, element in enumerate(list_1):\n",
    "    print('Elemento en índice ' + str(index) + \": \" + element)"
   ]
  },
  {
   "cell_type": "markdown",
   "id": "d027f88d",
   "metadata": {},
   "source": [
    "## While"
   ]
  },
  {
   "cell_type": "code",
   "execution_count": 5,
   "id": "1457f602",
   "metadata": {},
   "outputs": [
    {
     "name": "stdout",
     "output_type": "stream",
     "text": [
      "0\n",
      "1\n",
      "2\n",
      "3\n",
      "4\n",
      "5\n",
      "6\n",
      "7\n",
      "8\n",
      "9\n"
     ]
    }
   ],
   "source": [
    "i = 0\n",
    "while i < 10:\n",
    "    print(i)\n",
    "    i += 1"
   ]
  },
  {
   "cell_type": "code",
   "execution_count": 19,
   "id": "2b89e3b3",
   "metadata": {},
   "outputs": [
    {
     "name": "stdout",
     "output_type": "stream",
     "text": [
      "f°     C°\n",
      "32      0\n",
      "33      0\n",
      "34      1\n",
      "35      1\n",
      "36      2\n",
      "37      2\n",
      "38      3\n",
      "39      3\n",
      "40      4\n",
      "41      5\n",
      "42      5\n"
     ]
    }
   ],
   "source": [
    "temp = 32\n",
    "print(\"f°     C°\")\n",
    "while temp < 43:\n",
    "    print(temp, \"    \", int((temp-32)*5/9))\n",
    "    temp = temp + 1"
   ]
  },
  {
   "cell_type": "code",
   "execution_count": 6,
   "id": "13fb3ab2",
   "metadata": {},
   "outputs": [
    {
     "name": "stdout",
     "output_type": "stream",
     "text": [
      "uno\n",
      "dos\n",
      "tres\n"
     ]
    }
   ],
   "source": [
    "list_1 = ['uno', 'dos', 'tres', 'cuatro', 'cinco']\n",
    "for element in list_1:\n",
    "    if element == 'cuatro':\n",
    "        break\n",
    "    print (element)"
   ]
  },
  {
   "cell_type": "code",
   "execution_count": 7,
   "id": "05c83abe",
   "metadata": {},
   "outputs": [
    {
     "name": "stdout",
     "output_type": "stream",
     "text": [
      "uno\n",
      "dos\n",
      "tres\n",
      "cinco\n"
     ]
    }
   ],
   "source": [
    "list_1 = ['uno', 'dos', 'tres', 'cuatro', 'cinco']\n",
    "for element in list_1:\n",
    "    if element == 'cuatro':\n",
    "        continue\n",
    "    print (element)"
   ]
  },
  {
   "cell_type": "code",
   "execution_count": 8,
   "id": "ffe5920e",
   "metadata": {},
   "outputs": [
    {
     "name": "stdout",
     "output_type": "stream",
     "text": [
      "['MIGUEL', 'MARÍA', 'MANUEL']\n"
     ]
    }
   ],
   "source": [
    "list_1 = [\"Miguel\", \"Juan\", \"María\", \"Manuel\", \"Rodrigo\"]\n",
    "list_M = []\n",
    "for element in list_1:\n",
    "    if element[0] == \"M\":\n",
    "        list_M.append(element.upper())\n",
    "print (list_M)"
   ]
  },
  {
   "cell_type": "code",
   "execution_count": 9,
   "id": "61189320",
   "metadata": {},
   "outputs": [
    {
     "name": "stdout",
     "output_type": "stream",
     "text": [
      "['MIGUEL', 'MARÍA', 'MANUEL']\n"
     ]
    }
   ],
   "source": [
    "list_1 = [\"Miguel\", \"Juan\", \"María\", \"Manuel\", \"Rodrigo\"]\n",
    "list_M = [element.upper() for element in list_1 if element[0] == \"M\"]\n",
    "print (list_M)"
   ]
  },
  {
   "cell_type": "code",
   "execution_count": 10,
   "id": "578e788d",
   "metadata": {},
   "outputs": [
    {
     "data": {
      "text/plain": [
       "{'MIGUEL': True,\n",
       " 'JUAN': False,\n",
       " 'MARÍA': True,\n",
       " 'MANUEL': True,\n",
       " 'RODRIGO': False}"
      ]
     },
     "execution_count": 10,
     "metadata": {},
     "output_type": "execute_result"
    }
   ],
   "source": [
    "{element.upper(): element[0] == 'M' for element in list_1}"
   ]
  },
  {
   "cell_type": "code",
   "execution_count": 11,
   "id": "912983e9",
   "metadata": {},
   "outputs": [
    {
     "data": {
      "text/plain": [
       "{'Juan', 'María', 'Miguel'}"
      ]
     },
     "execution_count": 11,
     "metadata": {},
     "output_type": "execute_result"
    }
   ],
   "source": [
    "list_duplicates = ['Miguel', 'Juan', 'María', 'Miguel', 'Juan']\n",
    "{element for element in list_duplicates}"
   ]
  }
 ],
 "metadata": {
  "kernelspec": {
   "display_name": "Python 3",
   "language": "python",
   "name": "python3"
  },
  "language_info": {
   "codemirror_mode": {
    "name": "ipython",
    "version": 3
   },
   "file_extension": ".py",
   "mimetype": "text/x-python",
   "name": "python",
   "nbconvert_exporter": "python",
   "pygments_lexer": "ipython3",
   "version": "3.13.7"
  }
 },
 "nbformat": 4,
 "nbformat_minor": 5
}
